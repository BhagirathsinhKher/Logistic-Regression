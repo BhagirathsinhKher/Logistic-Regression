{
  "nbformat": 4,
  "nbformat_minor": 0,
  "metadata": {
    "colab": {
      "provenance": []
    },
    "kernelspec": {
      "name": "python3",
      "display_name": "Python 3"
    },
    "language_info": {
      "name": "python"
    }
  },
  "cells": [
    {
      "cell_type": "markdown",
      "source": [
        "$$ #Logistic Regression $$"
      ],
      "metadata": {
        "id": "WKL79IB2mfgs"
      }
    },
    {
      "cell_type": "markdown",
      "source": [
        "###Theoritical Questions:"
      ],
      "metadata": {
        "id": "ScxAyeVNm1YM"
      }
    },
    {
      "cell_type": "markdown",
      "source": [
        "1. What is Logistic Regression, and how does it differ from Linear Regression?\n",
        "  \n",
        "- **Logistic Regression:**\n",
        "  - **Purpose**: Used for **classification problems**, especially **binary classification** (e.g., Yes/No, 0/1, True/False).\n",
        "  - **Output**: Predicts the **probability** of a class label (between 0 and 1).\n",
        "  - **Activation Function**: Uses the **sigmoid function** to map predictions to probabilities:\n",
        "  \n",
        "  $$\n",
        "  \\sigma(z) = \\frac{1}{1 + e^{-z}}\n",
        "  $$\n",
        "\n",
        "  where $z = w_1x_1 + w_2x_2 + \\ldots + w_nx_n + b$.\n",
        "\n",
        "- **Final Output**: Converts probability to class label using a threshold (typically 0.5).\n",
        "\n",
        "- **Linear Regression:**\n",
        "  - **Purpose**: Used for **regression problems** — predicting **continuous numeric values**.\n",
        "  - **Output**: Directly predicts a **real number** as output.\n",
        "  - **Equation**:\n",
        "\n",
        "  $$\n",
        "  y = w_1x_1 + w_2x_2 + \\ldots + w_nx_n + b\n",
        "  $$\n",
        "\n",
        "  - **Loss Function**: Uses **Mean Squared Error (MSE)**.\n",
        "  \n",
        "- **Key Differences:**\n",
        "\n",
        "| Feature                | Linear Regression                      | Logistic Regression                      |\n",
        "|------------------------|----------------------------------------|------------------------------------------|\n",
        "| Type of Problem        | Regression (continuous output)         | Classification (discrete output)         |\n",
        "| Output Range           | $(-\\infty, +\\infty)$                   | $(0, 1)$ (Probability)                   |\n",
        "| Function Used          | Linear Function                        | Sigmoid Function                         |\n",
        "| Loss Function          | Mean Squared Error                     | Binary Cross-Entropy (Log Loss)          |\n",
        "| Interpretation         | Predicts a value                       | Predicts probability of class            |\n",
        "\n",
        "---\n",
        "\n"
      ],
      "metadata": {
        "id": "_w5EeC_cnH2B"
      }
    },
    {
      "cell_type": "markdown",
      "source": [
        "2. What is the mathematical equation of Logistic Regression?\n",
        "- **Mathematical Equation of Logistic Regression:**\n",
        "  - The logistic regression model predicts the **probability** that a given input $x$ belongs to the **positive class** (class 1).\n",
        "  - The equation is based on the **sigmoid (logistic) function** applied to a linear combination of inputs:\n",
        "\n",
        "  $$\n",
        "  P(y = 1 \\mid x) = \\sigma(z) = \\frac{1}{1 + e^{-z}}\n",
        "  $$\n",
        "\n",
        "  where,\n",
        "\n",
        "  $$\n",
        "  z = w_0 + w_1x_1 + w_2x_2 + \\ldots + w_nx_n = \\mathbf{w}^T \\mathbf{x}\n",
        "  $$\n",
        "\n",
        "  - Here:\n",
        "    - $\\mathbf{x} = [1, x_1, x_2, \\ldots, x_n]$ is the input vector (including bias term as 1)\n",
        "    - $\\mathbf{w} = [w_0, w_1, w_2, \\ldots, w_n]$ is the weight vector\n",
        "    - $\\sigma(z)$ is the **sigmoid function** which maps any real value to the range $(0, 1)$\n",
        "\n",
        "- **Final Class Prediction Rule:**\n",
        "\n",
        "  $$\n",
        "  \\hat{y} =\n",
        "  \\begin{cases}\n",
        "    1 & \\text{if } \\sigma(z) \\geq 0.5 \\\\\n",
        "    0 & \\text{if } \\sigma(z) < 0.5\n",
        "  \\end{cases}\n",
        "  $$\n",
        "\n",
        "- This makes Logistic Regression suitable for **binary classification** problems by outputting probabilities that can be thresholded into class labels.\n",
        "---"
      ],
      "metadata": {
        "id": "-SSBvu18m8et"
      }
    },
    {
      "cell_type": "markdown",
      "source": [
        "3.  Why do we use the Sigmoid function in Logistic Regression?\n",
        "- **Purpose**: The sigmoid function transforms the linear output (which can range from $-\\infty$ to $+\\infty$) into a probability value between **0 and 1**, which is ideal for binary classification.\n",
        "\n",
        "- **Sigmoid Function Definition**:\n",
        "\n",
        "  $$\n",
        "  \\sigma(z) = \\frac{1}{1 + e^{-z}}\n",
        "  $$\n",
        "\n",
        "- **Key Reasons to Use Sigmoid:**\n",
        "  - **Probability Mapping**: Converts linear output to a value between **0 and 1**, allowing interpretation as a **probability**.\n",
        "  - **Smooth Gradient**: The function is **differentiable**, which is essential for optimization using **gradient descent**.\n",
        "  - **Thresholding**: We can apply a **decision threshold** (typically 0.5) to the output to classify observations into one of the two classes.\n",
        "  - **Mathematical Simplicity**: Its derivative has a clean form, which simplifies the computation of gradients:\n",
        "\n",
        "    $$\n",
        "    \\sigma'(z) = \\sigma(z)(1 - \\sigma(z))\n",
        "    $$\n",
        "\n",
        "- **Conclusion**: The sigmoid function ensures that logistic regression outputs a **valid probability**, making it ideal for classification problems.\n",
        "---"
      ],
      "metadata": {
        "id": "-lzURa-ipLba"
      }
    },
    {
      "cell_type": "markdown",
      "source": [
        "4. What is the cost function of Logistic Regression?\n",
        "- **Cost Function of Logistic Regression**: Measures how well the predicted probabilities match the actual class labels. It is based on the **likelihood function**, transformed using the **logarithm** to simplify optimization.\n",
        "\n",
        "- **Binary Cross-Entropy (Log Loss)** is used as the cost function:\n",
        "\n",
        "  $$\n",
        "  J(\\mathbf{w}) = -\\frac{1}{m} \\sum_{i=1}^{m} \\left[ y^{(i)} \\log(\\hat{y}^{(i)}) + (1 - y^{(i)}) \\log(1 - \\hat{y}^{(i)}) \\right]\n",
        "  $$\n",
        "\n",
        "  where:\n",
        "  - $m$ = number of training examples  \n",
        "  - $y^{(i)}$ = actual label (0 or 1) for the $i^{th}$ example  \n",
        "  - $\\hat{y}^{(i)} = \\sigma(z^{(i)})$ = predicted probability using the sigmoid function\n",
        "\n",
        "- **Intuition**:\n",
        "  - If the true label is 1, only the first term is active: $- \\log(\\hat{y})$\n",
        "  - If the true label is 0, only the second term is active: $- \\log(1 - \\hat{y})$\n",
        "  - The function penalizes confident wrong predictions heavily and rewards confident correct ones.\n",
        "\n",
        "- **Why this cost function?**\n",
        "  - It ensures **convexity**, making it easier to optimize using gradient descent.\n",
        "  - It effectively penalizes incorrect predictions more strongly as the confidence in the wrong prediction increases.\n",
        "---"
      ],
      "metadata": {
        "id": "bkxIU6wzpnHd"
      }
    },
    {
      "cell_type": "markdown",
      "source": [
        "5. What is Regularization in Logistic Regression? Why is it needed?\n",
        "- **Regularization**: A technique used to **prevent overfitting** by adding a **penalty term** to the cost function. It discourages the model from fitting the noise in the training data by **shrinking the weights**.\n",
        "\n",
        "- **In Logistic Regression**, the regularized cost function becomes:\n",
        "\n",
        "  - **L2 Regularization (Ridge)** – adds the squared magnitude of weights:\n",
        "\n",
        "    $$\n",
        "    J(\\mathbf{w}) = -\\frac{1}{m} \\sum_{i=1}^{m} \\left[ y^{(i)} \\log(\\hat{y}^{(i)}) + (1 - y^{(i)}) \\log(1 - \\hat{y}^{(i)}) \\right] + \\frac{\\lambda}{2m} \\sum_{j=1}^{n} w_j^2\n",
        "    $$\n",
        "\n",
        "  - **L1 Regularization (Lasso)** – adds the absolute values of weights:\n",
        "\n",
        "    $$\n",
        "    J(\\mathbf{w}) = -\\frac{1}{m} \\sum_{i=1}^{m} \\left[ y^{(i)} \\log(\\hat{y}^{(i)}) + (1 - y^{(i)}) \\log(1 - \\hat{y}^{(i)}) \\right] + \\frac{\\lambda}{m} \\sum_{j=1}^{n} |w_j|\n",
        "    $$\n",
        "\n",
        "  where:\n",
        "  - $\\lambda$ = regularization parameter (controls the strength of the penalty)\n",
        "  - $w_j$ = weights of the model (excluding bias term)\n",
        "\n",
        "- **Why is Regularization Needed?**\n",
        "  - **Prevents Overfitting**: Helps avoid overly complex models that perform well on training data but poorly on unseen data.\n",
        "  - **Controls Model Complexity**: Keeps weights small, which simplifies the model and improves generalization.\n",
        "  - **Improves Generalization**: Leads to better performance on test/validation datasets.\n",
        "\n",
        "- **Conclusion**: Regularization helps create **simpler, more robust models** by penalizing large weights and reducing variance.\n",
        "---"
      ],
      "metadata": {
        "id": "TfBC-acMp1Dw"
      }
    },
    {
      "cell_type": "markdown",
      "source": [
        "6. Explain the difference between Lasso, Ridge, and Elastic Net regression.\n",
        "- **Lasso Regression (L1 Regularization)**:\n",
        "  - **Penalty**: Adds the **absolute value** of the weights to the cost function.\n",
        "  - **Cost Function**:\n",
        "\n",
        "    $$\n",
        "    J(\\mathbf{w}) = \\text{Loss} + \\lambda \\sum_{j=1}^{n} |w_j|\n",
        "    $$\n",
        "\n",
        "  - **Effect**: Lasso can set some coefficients to **exactly zero**, leading to **sparse models** and performing **feature selection**. It works well when only a few features are important.\n",
        "  - **Use Case**: Ideal when you believe only a subset of features is useful for prediction.\n",
        "\n",
        "- **Ridge Regression (L2 Regularization)**:\n",
        "  - **Penalty**: Adds the **squared value** of the weights to the cost function.\n",
        "  - **Cost Function**:\n",
        "\n",
        "    $$\n",
        "    J(\\mathbf{w}) = \\text{Loss} + \\lambda \\sum_{j=1}^{n} w_j^2\n",
        "    $$\n",
        "\n",
        "  - **Effect**: Ridge **shrinks** the coefficients but **does not set them to zero**. It reduces model complexity and helps with multicollinearity.\n",
        "  - **Use Case**: Useful when most features are expected to be relevant but need regularization to prevent overfitting.\n",
        "\n",
        "- **Elastic Net Regression**:\n",
        "  - **Penalty**: Combines **both L1 and L2 penalties** to take advantage of both Lasso and Ridge regression.\n",
        "  - **Cost Function**:\n",
        "\n",
        "    $$\n",
        "    J(\\mathbf{w}) = \\text{Loss} + \\lambda_1 \\sum_{j=1}^{n} |w_j| + \\lambda_2 \\sum_{j=1}^{n} w_j^2\n",
        "    $$\n",
        "\n",
        "  - **Effect**: Elastic Net can perform **feature selection** like Lasso and **shrink coefficients** like Ridge. It is particularly useful when there are **many correlated features**.\n",
        "  - **Use Case**: Ideal when there are a large number of features, and you believe both regularization and feature selection are needed.\n",
        "\n",
        "- **Comparison Table**:\n",
        "\n",
        "| Feature                | Lasso Regression (L1)               | Ridge Regression (L2)               | Elastic Net Regression               |\n",
        "|------------------------|-------------------------------------|-------------------------------------|--------------------------------------|\n",
        "| **Penalty Type**        | Absolute values of coefficients     | Squared values of coefficients      | Combination of L1 and L2 penalties   |\n",
        "| **Effect on Coefficients**| Can set some coefficients to zero  | Shrinks coefficients but does not set them to zero | Shrinks coefficients and can set some to zero |\n",
        "| **Feature Selection**   | Yes, selects a subset of features  | No, keeps all features             | Yes, can select features while shrinking others |\n",
        "| **Use Case**            | Sparse models, when few features matter | Models with many features, multicollinearity | When features are highly correlated and both selection and shrinkage are needed |\n",
        "\n",
        "---\n"
      ],
      "metadata": {
        "id": "8-oGK4MYqITt"
      }
    },
    {
      "cell_type": "markdown",
      "source": [
        "7. When should we use Elastic Net instead of Lasso or Ridge?\n",
        "\n",
        "- **When Features are Highly Correlated**: Elastic Net is particularly useful when there are **many correlated features**. Lasso may select one feature from a group of correlated features and ignore the rest, while Ridge would shrink all of them equally. Elastic Net balances between Lasso's feature selection and Ridge's shrinkage, effectively handling correlated predictors.\n",
        "\n",
        "- **When You Need Both Feature Selection and Shrinkage**: If you need both **feature selection** (like Lasso) and **shrinkage** (like Ridge), Elastic Net is a good choice. This combination allows you to **select important features** and **shrink the coefficients** of the less important ones, making it more robust than Lasso or Ridge alone.\n",
        "\n",
        "- **When You Have Many Features (p > n)**: In cases where the number of features $p$ is greater than the number of samples $n$, Lasso and Ridge may not work as well. Elastic Net combines the advantages of both Lasso and Ridge, making it more effective in high-dimensional settings where feature selection and shrinkage are both required.\n",
        "\n",
        "- **When Lasso Fails (All Features are Relevant)**: If Lasso produces a **too sparse model** (with many coefficients set to zero), Elastic Net can help by allowing some correlation between features but still promoting regularization, avoiding the over-sparsity issue of Lasso.\n",
        "\n",
        "- **When Lasso and Ridge Do Not Perform Well Individually**: Elastic Net can be more effective when Lasso or Ridge does not yield satisfactory performance. It is especially useful in situations where:\n",
        "  - Lasso might be too aggressive in setting coefficients to zero.\n",
        "  - Ridge might fail to reduce variance enough in complex models.\n",
        "\n",
        "---"
      ],
      "metadata": {
        "id": "9VrKFT_DwwOC"
      }
    },
    {
      "cell_type": "markdown",
      "source": [
        "8. What is the impact of the regularization parameter (λ) in Logistic Regression?\n",
        "\n",
        "- **Impact of the Regularization Parameter (λ) in Logistic Regression**:\n",
        "\n",
        "  - **Control Overfitting**: The regularization parameter λ controls the strength of the regularization applied to the model. It prevents **overfitting** by penalizing large weights and simplifying the model.\n",
        "\n",
        "  - **When λ is Small**:\n",
        "    - The regularization effect is **weak**, and the model is allowed to fit the training data more closely.\n",
        "    - The weights may become **large**, which can lead to overfitting, especially in the presence of noise or irrelevant features.\n",
        "    - The model will likely have high variance and may not generalize well to unseen data.\n",
        "\n",
        "  - **When λ is Large**:\n",
        "    - The regularization effect becomes **stronger**, and the model is forced to keep the weights **small**.\n",
        "    - This results in a **simpler model**, which may have lower variance and reduced risk of overfitting.\n",
        "    - However, if λ is too large, the model may become too **simplified**, underfitting the data and failing to capture important patterns.\n",
        "\n",
        "  - **Optimal λ**:\n",
        "    - The optimal value of λ lies between **small** and **large** values. It balances the trade-off between bias and variance:\n",
        "      - A **small λ** (close to zero) leads to **under-regularization**, where the model is more complex and can overfit.\n",
        "      - A **large λ** leads to **over-regularization**, where the model becomes too simple and may underfit.\n",
        "    - The optimal λ is typically determined using **cross-validation**, where the model is trained on different subsets of the data, and its performance is evaluated to find the best value of λ.\n",
        "\n",
        "---"
      ],
      "metadata": {
        "id": "4_VtTuseqhT2"
      }
    },
    {
      "cell_type": "markdown",
      "source": [
        "9. What are the key assumptions of Logistic Regression?\n",
        "- **Key Assumptions of Logistic Regression**:\n",
        "\n",
        "  1. **Linear Relationship between Predictors and Log-Odds**:\n",
        "     - Logistic regression assumes that there is a **linear relationship** between the independent variables (predictors) and the **log-odds** of the dependent variable (the log of the odds of the event happening).\n",
        "     - The equation takes the form:\n",
        "\n",
        "$$\n",
        "       \\log\\left(\\frac{p}{1 - p}\\right) = \\beta_0 + \\beta_1x_1 + \\beta_2x_2 + \\ldots + \\beta_nx_n\n",
        "$$\n",
        "where $p$ is the probability of the event occurring.\n",
        "\n",
        "  2. **Independence of Observations**:\n",
        "     - Each observation in the dataset should be **independent** of others. Logistic regression assumes that the data points are not correlated, meaning the outcome of one observation does not influence another.\n",
        "\n",
        "  3. **No or Little Multicollinearity**:\n",
        "     - Logistic regression assumes that the predictors (independent variables) are not highly correlated with each other. If the independent variables are highly correlated, it can lead to multicollinearity, making it difficult to determine the individual effect of each predictor on the outcome.\n",
        "\n",
        "  4. **Large Sample Size**:\n",
        "     - Logistic regression works best with **large sample sizes**. Small sample sizes can lead to unstable estimates of the coefficients and inaccurate predictions.\n",
        "     - In general, a sample size of at least 10 events per predictor is recommended to avoid overfitting and unreliable results.\n",
        "\n",
        "  5. **No High Influence Points (Outliers)**:\n",
        "     - Logistic regression assumes that the data does not have influential outliers that significantly affect the model. Outliers can lead to biased estimates of the coefficients.\n",
        "     - Techniques like **robust regression** or **removal of outliers** may be needed if significant outliers are present.\n",
        "\n",
        "  6. **Binary Dependent Variable**:\n",
        "     - Logistic regression assumes that the dependent variable is **binary** (i.e., it can take on only two possible outcomes, such as 0 or 1, Yes or No).\n",
        "     - For multi-class problems, **multinomial logistic regression** or **one-vs-rest classification** methods are used.\n",
        "\n",
        "  7. **Homoscedasticity** (for Generalized Linear Models):\n",
        "     - The variance of the errors should be **constant** across all levels of the independent variables. While logistic regression is a **generalized linear model** and does not require the traditional homoscedasticity assumption, it is important that errors are **independent**.\n",
        "\n",
        "---\n"
      ],
      "metadata": {
        "id": "0LwQbY5pxKh6"
      }
    },
    {
      "cell_type": "markdown",
      "source": [
        "10. What are some alternatives to Logistic Regression for classification tasks?\n",
        "- **Alternatives to Logistic Regression for Classification Tasks**:\n",
        "\n",
        "  1. **Decision Trees**:\n",
        "     - **Description**: A **tree-like model** that splits data based on feature values to classify outcomes.\n",
        "     - **Advantages**:\n",
        "       - Can handle both **categorical and numerical** data.\n",
        "       - Easy to interpret and visualize.\n",
        "     - **Disadvantages**:\n",
        "       - Prone to **overfitting** if the tree is too deep.\n",
        "       - Sensitive to small variations in data.\n",
        "\n",
        "  2. **Random Forest**:\n",
        "     - **Description**: An **ensemble method** that builds multiple decision trees and combines their predictions to improve accuracy.\n",
        "     - **Advantages**:\n",
        "       - **Robust** to overfitting compared to individual decision trees.\n",
        "       - Handles missing data and large feature sets well.\n",
        "     - **Disadvantages**:\n",
        "       - Less interpretable than a single decision tree.\n",
        "       - Can be computationally expensive.\n",
        "\n",
        "  3. **Support Vector Machines (SVM)**:\n",
        "     - **Description**: A **boundary-based method** that finds the optimal hyperplane to separate classes in high-dimensional space.\n",
        "     - **Advantages**:\n",
        "       - Effective in **high-dimensional** spaces.\n",
        "       - Can use different kernel functions for **non-linear** classification.\n",
        "     - **Disadvantages**:\n",
        "       - Requires careful tuning of the **kernel** and **hyperparameters**.\n",
        "       - Computationally expensive for large datasets.\n",
        "\n",
        "  4. **k-Nearest Neighbors (k-NN)**:\n",
        "     - **Description**: A **distance-based algorithm** where the class of a data point is determined by the majority class of its k nearest neighbors.\n",
        "     - **Advantages**:\n",
        "       - **Non-parametric** and simple to implement.\n",
        "       - No model training required.\n",
        "     - **Disadvantages**:\n",
        "       - **Slow** for large datasets (due to distance calculations).\n",
        "       - Performance depends heavily on the choice of **k** and distance metric.\n",
        "\n",
        "---"
      ],
      "metadata": {
        "id": "isiq3_VbxO8j"
      }
    },
    {
      "cell_type": "markdown",
      "source": [
        "11. What are Classification Evaluation Metrics?\n",
        "\n",
        "- **Classification Evaluation Metrics**:\n",
        "\n",
        "  These metrics help assess the **performance** of a classification model. They are especially useful when comparing models or choosing the best one.\n",
        "\n",
        "- **1. Accuracy**:\n",
        "  - **Definition**: The ratio of correctly predicted observations to the total observations.\n",
        "  - **Formula**:\n",
        "    $$\n",
        "    \\text{Accuracy} = \\frac{TP + TN}{TP + TN + FP + FN}\n",
        "    $$\n",
        "  - **Use Case**: Good when classes are balanced.\n",
        "\n",
        "- **2. Precision**:\n",
        "  - **Definition**: Out of all predicted positives, how many were actually positive?\n",
        "  - **Formula**:\n",
        "    $$\n",
        "    \\text{Precision} = \\frac{TP}{TP + FP}\n",
        "    $$\n",
        "  - **Use Case**: Important when **false positives** are costly (e.g., spam detection).\n",
        "\n",
        "- **3. Recall (Sensitivity or True Positive Rate)**:\n",
        "  - **Definition**: Out of all actual positives, how many were correctly predicted?\n",
        "  - **Formula**:\n",
        "    $$\n",
        "    \\text{Recall} = \\frac{TP}{TP + FN}\n",
        "    $$\n",
        "  - **Use Case**: Important when **false negatives** are costly (e.g., disease detection).\n",
        "\n",
        "- **4. F1 Score**:\n",
        "  - **Definition**: The harmonic mean of Precision and Recall. It balances the two when there’s an uneven class distribution.\n",
        "  - **Formula**:\n",
        "    $$\n",
        "    \\text{F1 Score} = 2 \\cdot \\frac{\\text{Precision} \\cdot \\text{Recall}}{\\text{Precision} + \\text{Recall}}\n",
        "    $$\n",
        "  - **Use Case**: Best when **precision and recall** are both important.\n",
        "\n",
        "- **5. Confusion Matrix**:\n",
        "  - **Definition**: A table that shows the number of correct and incorrect predictions broken down by each class.\n",
        "\n",
        "|                      | Predicted Positive | Predicted Negative |\n",
        "  |----------------------|--------------------|--------------------|\n",
        "  | **Actual Positive**  | True Positive (TP) | False Negative (FN)|\n",
        "  | **Actual Negative**  | False Positive (FP)| True Negative (TN) |\n",
        "\n",
        "- **6. ROC Curve (Receiver Operating Characteristic)**:\n",
        "  - **Definition**: Plots the True Positive Rate (Recall) against the False Positive Rate.\n",
        "  - **Use Case**: Helps visualize model performance across all classification thresholds.\n",
        "\n",
        "- **7. AUC (Area Under the ROC Curve)**:\n",
        "  - **Definition**: Measures the entire two-dimensional area underneath the ROC curve.\n",
        "  - **Interpretation**:\n",
        "    - AUC = 1 → Perfect model\n",
        "    - AUC = 0.5 → No discrimination (random)\n",
        "\n",
        "- **8. Log Loss (Logarithmic Loss)**:\n",
        "  - **Definition**: Measures the uncertainty of the probability predictions.\n",
        "  - **Formula**:\n",
        "  $$\n",
        "    - \\frac{1}{N} \\sum_{i=1}^{N} [y_i \\log(p_i) + (1 - y_i) \\log(1 - p_i)]\n",
        "  $$\n",
        "  - **Use Case**: Useful when you want to penalize **false confident predictions** more heavily.\n",
        "\n",
        "---\n"
      ],
      "metadata": {
        "id": "09i01-nSyqu_"
      }
    },
    {
      "cell_type": "markdown",
      "source": [
        "12. How does class imbalance affect Logistic Regression?\n",
        "\n",
        "- **Class Imbalance in Logistic Regression**:\n",
        "\n",
        "  Class imbalance occurs when one class (e.g., \"positive\") is significantly underrepresented compared to another (e.g., \"negative\"). This imbalance can lead to biased models.\n",
        "\n",
        "- **Impact on Logistic Regression**:\n",
        "  - **Biased Predictions**: The model may learn to always predict the majority class because it minimizes the loss function effectively that way.\n",
        "  - **Misleading Accuracy**: A high accuracy score can be deceptive. For instance, if 95% of data is class 0, the model can achieve 95% accuracy by always predicting 0 — but it fails to detect any minority class.\n",
        "  - **Poor Recall for Minority Class**: Logistic Regression might have **low recall** for the underrepresented class, missing important positive instances (e.g., detecting fraud or disease).\n",
        "  - **Unstable Thresholds**: Default threshold of 0.5 may not be optimal for imbalanced data, leading to further misclassification.\n",
        "\n",
        "- **Solutions**:\n",
        "  - **Resampling Techniques**:\n",
        "    - **Oversampling**: Increase the number of minority class samples (e.g., using SMOTE).\n",
        "    - **Undersampling**: Reduce the number of majority class samples.\n",
        "  - **Use Class Weights**:\n",
        "    - Logistic Regression in libraries like `scikit-learn` allows setting `class_weight='balanced'` to penalize misclassification of minority class more.\n",
        "  - **Alternative Metrics**: Use metrics like **Precision**, **Recall**, **F1 Score**, and **AUC** instead of Accuracy.\n",
        "  - **Adjusting Decision Threshold**: Modify the probability threshold (e.g., lower than 0.5) to favor detecting the minority class.\n",
        "\n",
        "---"
      ],
      "metadata": {
        "id": "LnYlWPa9M2kb"
      }
    },
    {
      "cell_type": "markdown",
      "source": [
        "13. What is Hyperparameter Tuning in Logistic Regression?\n",
        "- **Hyperparameter Tuning in Logistic Regression**:\n",
        "\n",
        "  Hyperparameter tuning refers to the process of **finding the optimal values of the hyperparameters** that are not learned during model training but significantly affect the model's performance.\n",
        "\n",
        "- **Common Hyperparameters in Logistic Regression**:\n",
        "  - **C (Inverse of Regularization Strength)**:\n",
        "    - Controls the trade-off between achieving a low training error and a low testing error.\n",
        "    - Smaller C → Stronger regularization (simpler model).\n",
        "    - Larger C → Weaker regularization (more complex model).\n",
        "  - **Penalty**:\n",
        "    - Type of regularization to apply: `'l1'` (Lasso), `'l2'` (Ridge), or `'elasticnet'`.\n",
        "  - **Solver**:\n",
        "    - Algorithm used to optimize the cost function: `'liblinear'`, `'lbfgs'`, `'saga'`, etc.\n",
        "    - Not all solvers support all penalties (e.g., `'liblinear'` supports `'l1'` and `'l2'` only).\n",
        "  - **max_iter**:\n",
        "    - Maximum number of iterations taken for the solvers to converge.\n",
        "\n",
        "- **Why is Hyperparameter Tuning Important?**:\n",
        "  - It helps improve **model performance**, **reduce overfitting or underfitting**, and ensure the model generalizes well to unseen data.\n",
        "\n",
        "- **Techniques for Hyperparameter Tuning**:\n",
        "  - **Grid Search**:\n",
        "    - Tries all combinations of given hyperparameter values.\n",
        "    - Computationally expensive but exhaustive.\n",
        "  - **Random Search**:\n",
        "    - Samples random combinations of hyperparameters from specified distributions.\n",
        "    - More efficient when search space is large.\n",
        "  - **Bayesian Optimization**:\n",
        "    - Uses probabilistic models to predict good hyperparameter values based on past evaluation results.\n",
        "    - More sophisticated and often faster convergence.\n",
        "\n",
        "---"
      ],
      "metadata": {
        "id": "DINIQaqVyhzd"
      }
    },
    {
      "cell_type": "markdown",
      "source": [
        "14. What are different solvers in Logistic Regression? Which one should be used?\n",
        "- **Solvers in Logistic Regression**:\n",
        "\n",
        "  A solver is an algorithm used to **optimize the cost function** in Logistic Regression. Different solvers use different strategies for optimization, and the choice depends on the dataset and regularization type.\n",
        "\n",
        "- **1. liblinear**:\n",
        "  - **Type**: Coordinate Descent Algorithm (good for small datasets).\n",
        "  - **Supports**: `'l1'` and `'l2'` penalties.\n",
        "  - **Doesn’t support**: Multinomial classification (`multi_class='multinomial'`).\n",
        "  - **Best For**: Small datasets, binary classification, sparse data.\n",
        "\n",
        "- **2. lbfgs (Limited-memory Broyden–Fletcher–Goldfarb–Shanno)**:\n",
        "  - **Type**: Quasi-Newton method.\n",
        "  - **Supports**: `'l2'` penalty only.\n",
        "  - **Supports Multiclass**: Yes (supports `multi_class='multinomial'`).\n",
        "  - **Best For**: Large datasets, multinomial classification.\n",
        "\n",
        "- **3. newton-cg**:\n",
        "  - **Type**: Newton-Raphson method.\n",
        "  - **Supports**: `'l2'` penalty.\n",
        "  - **Supports Multiclass**: Yes.\n",
        "  - **Best For**: Large datasets, multiclass problems, where higher accuracy is needed.\n",
        "\n",
        "- **4. sag (Stochastic Average Gradient)**:\n",
        "  - **Type**: Optimized for large datasets, especially when features are sparse.\n",
        "  - **Supports**: `'l2'` penalty only.\n",
        "  - **Requires**: Features to be scaled.\n",
        "  - **Best For**: Very large datasets with many samples.\n",
        "\n",
        "- **5. saga**:\n",
        "  - **Type**: Extension of SAG.\n",
        "  - **Supports**: `'l1'`, `'l2'`, and `'elasticnet'` penalties.\n",
        "  - **Supports Multiclass**: Yes.\n",
        "  - **Best For**: Large datasets, especially when using `l1` or `elasticnet` regularization.\n",
        "\n",
        "- **Which Solver to Use?**:\n",
        "\n",
        "| Scenario                                | Recommended Solver   |\n",
        "|----------------------------------------|-----------------------|\n",
        "| Small dataset, binary classification   | `liblinear`           |\n",
        "| Multiclass classification              | `lbfgs`, `saga`       |\n",
        "| L1 or Elastic Net regularization       | `liblinear`, `saga`   |\n",
        "| Very large datasets                    | `sag`, `saga`         |\n",
        "\n",
        "- **Note**: Always **scale your data** when using `sag` or `saga` for faster and stable convergence."
      ],
      "metadata": {
        "id": "SUD9GVQmN-IS"
      }
    },
    {
      "cell_type": "markdown",
      "source": [
        "15. How is Logistic Regression extended for multiclass classification?\n",
        "- **Logistic Regression for Multiclass Classification**:\n",
        "\n",
        "  Although Logistic Regression is inherently designed for **binary classification**, it can be extended to handle **multiclass problems** using one of the following strategies:\n",
        "\n",
        "- **1. One-vs-Rest (OvR or One-vs-All)**:\n",
        "  - **Approach**: Builds **one binary classifier per class**.\n",
        "  - For each classifier:\n",
        "    - Treats one class as **positive** and the rest as **negative**.\n",
        "  - **Prediction**: Chooses the class with the **highest probability** among all classifiers.\n",
        "  - **Pros**: Simple and effective for most multiclass tasks.\n",
        "  - **Scikit-learn** default for `multi_class='ovr'`.\n",
        "\n",
        "- **2. Multinomial (Softmax Regression)**:\n",
        "  - **Approach**: Generalizes Logistic Regression to **predict probabilities for multiple classes** directly using the **softmax function**.\n",
        "  - **Softmax Function**:\n",
        "    $$\n",
        "    P(y = k \\mid x) = \\frac{e^{z_k}}{\\sum_{j=1}^K e^{z_j}}\n",
        "    $$\n",
        "    where $z_k = w_k^T x + b_k$, and $K$ is the number of classes.\n",
        "  - **Prediction**: Class with the **highest probability**.\n",
        "  - **Pros**: Often better calibrated probabilities and performance on multiclass problems.\n",
        "  - **Requires**: Solvers like `lbfgs`, `newton-cg`, or `saga`.\n",
        "  - **Scikit-learn**: Set `multi_class='multinomial'`.\n",
        "\n",
        "- **Comparison**:\n",
        "\n",
        "| Strategy        | Number of Models | Prediction Mechanism        | Use Case                            |\n",
        "|----------------|------------------|------------------------------|-------------------------------------|\n",
        "| One-vs-Rest     | K (K = classes)  | Choose highest predicted prob | Simpler, works well for many tasks |\n",
        "| Multinomial     | 1                | Softmax over all classes      | Preferred for probabilistic models |\n",
        "\n",
        "- **Important Note**:\n",
        "  - You must choose a solver that supports `multi_class='multinomial'` when using the softmax approach (e.g., `lbfgs`, `saga`).\n",
        "---"
      ],
      "metadata": {
        "id": "TzoYSTVEOVkw"
      }
    },
    {
      "cell_type": "markdown",
      "source": [
        "16. What are the advantages and disadvantages of Logistic Regression?\n",
        "\n",
        "- **Advantages of Logistic Regression**:\n",
        "\n",
        "  - **1. Simple and Interpretable**: Easy to understand and explain; coefficients show the effect of each feature.\n",
        "  - **2. Fast and Efficient**: Works well with smaller datasets and converges quickly.\n",
        "  - **3. Probabilistic Output**: Predicts probabilities instead of just classes, which is helpful in decision-making.\n",
        "  - **4. Works Well with Linearly Separable Data**: Performs best when the classes are linearly separable.\n",
        "  - **5. Regularization Support**: Can include L1/L2 regularization to prevent overfitting.\n",
        "  - **6. Easy to Implement**: Widely available in most machine learning libraries (e.g., scikit-learn).\n",
        "\n",
        "- **Disadvantages of Logistic Regression**:\n",
        "\n",
        "  - **1. Assumes Linearity**: Assumes a linear relationship between input features and the log-odds of the output, which may not hold true in complex problems.\n",
        "  - **2. Not Suitable for Complex Relationships**: Struggles with non-linear patterns unless features are transformed.\n",
        "  - **3. Sensitive to Outliers**: Outliers can affect the model coefficients significantly.\n",
        "  - **4. Requires Feature Scaling**: Especially important when using regularization or solvers like `sag` and `saga`.\n",
        "  - **5. Poor Performance on Imbalanced Data**: Accuracy may be misleading if the classes are highly imbalanced.\n",
        "  - **6. Limited to Binary/Multiclass Classification**: Not suitable for regression or multi-label classification tasks.\n",
        "\n",
        "- **Summary Table**:\n",
        "\n",
        "| Aspect                  | Advantage                                      | Disadvantage                                   |\n",
        "|-------------------------|------------------------------------------------|------------------------------------------------|\n",
        "| Simplicity              | Easy to interpret                              | Limited flexibility for complex patterns       |\n",
        "| Speed                   | Fast training                                  | May oversimplify real-world relationships      |\n",
        "| Output                  | Probabilistic predictions                      | May require threshold tuning                   |\n",
        "| Model Assumptions       | Works well with linear separability            | Assumes linearity in log-odds                  |\n",
        "| Regularization Support  | Supports L1, L2, Elastic Net                   | Needs tuning of regularization parameters      |\n",
        "\n",
        "---"
      ],
      "metadata": {
        "id": "TRlmIR9XOgIy"
      }
    },
    {
      "cell_type": "markdown",
      "source": [
        "17. What are some use cases of Logistic Regression?\n",
        "- **Use Cases of Logistic Regression**:\n",
        "\n",
        "  Logistic Regression is widely used in real-world applications that involve **binary or multiclass classification**. Its simplicity, interpretability, and probabilistic output make it ideal for many domains.\n",
        "\n",
        "- **1. Medical Diagnosis**:\n",
        "  - **Example**: Predicting whether a patient has a disease (Yes/No) based on symptoms and test results.\n",
        "  - **Why**: Helps in identifying high-risk patients for early intervention.\n",
        "\n",
        "- **2. Credit Scoring**:\n",
        "  - **Example**: Classifying whether a loan applicant is likely to **default** or not.\n",
        "  - **Why**: Used by banks and financial institutions for risk assessment.\n",
        "\n",
        "- **3. Email Spam Detection**:\n",
        "  - **Example**: Classifying emails as **spam or not spam**.\n",
        "  - **Why**: Simple yet effective approach in filtering unwanted emails.\n",
        "\n",
        "- **4. Customer Churn Prediction**:\n",
        "  - **Example**: Predicting if a customer will **leave a service** or not.\n",
        "  - **Why**: Helps companies take preventive actions to retain customers.\n",
        "\n",
        "- **5. Marketing Campaign Response**:\n",
        "  - **Example**: Predicting whether a customer will **respond to an ad** or campaign.\n",
        "  - **Why**: Useful in targeting the right audience and improving ROI.\n",
        "\n",
        "- **6. Fraud Detection**:\n",
        "  - **Example**: Detecting whether a transaction is **fraudulent** or genuine.\n",
        "  - **Why**: Critical for banks and payment gateways to prevent losses.\n",
        "\n",
        "- **7. Voting Behavior Prediction**:\n",
        "  - **Example**: Predicting whether a person will **vote for a candidate/party**.\n",
        "  - **Why**: Useful in political analysis and campaigning.\n",
        "\n",
        "- **8. HR Analytics**:\n",
        "  - **Example**: Predicting if an employee is **likely to resign**.\n",
        "  - **Why**: Helps in workforce planning and retention strategies.\n",
        "\n",
        "- **9. Sentiment Analysis**:\n",
        "  - **Example**: Classifying a review or comment as **positive or negative**.\n",
        "  - **Why**: Common in analyzing social media or product reviews.\n",
        "\n",
        "- **10. Insurance Underwriting**:\n",
        "  - **Example**: Estimating the probability of an **insurance claim** being filed.\n",
        "  - **Why**: Supports pricing and policy decision-making.\n",
        "\n",
        "- **Note**: Logistic Regression is preferred when **interpretability, speed, and probability estimation** are important.\n",
        "---"
      ],
      "metadata": {
        "id": "G4E5p35mOrxI"
      }
    },
    {
      "cell_type": "markdown",
      "source": [
        "18. What is the difference between Softmax Regression and Logistic Regression?\n",
        "- **Logistic Regression**:\n",
        "  - **Purpose**: Used for **binary classification** (two classes: 0 or 1).\n",
        "  - **Output**: Predicts the **probability** of one class (usually class 1) using the **sigmoid function**.\n",
        "  - **Activation Function**:\n",
        "    $$\n",
        "    \\sigma(z) = \\frac{1}{1 + e^{-z}}\n",
        "    $$\n",
        "  - **Interpretation**: Output is a value between 0 and 1, representing the probability of the positive class.\n",
        "  - **Decision Rule**: Class label is assigned based on a threshold (commonly 0.5).\n",
        "\n",
        "- **Softmax Regression (Multinomial Logistic Regression)**:\n",
        "  - **Purpose**: Used for **multiclass classification** (more than two classes).\n",
        "  - **Output**: Predicts the **probability distribution** over all possible classes using the **softmax function**.\n",
        "  - **Activation Function**:\n",
        "    $$\n",
        "    \\text{Softmax}(z_i) = \\frac{e^{z_i}}{\\sum_{j=1}^{K} e^{z_j}} \\quad \\text{for } i = 1, 2, \\ldots, K\n",
        "    $$\n",
        "    where $K$ is the number of classes.\n",
        "  - **Interpretation**: Output is a vector of probabilities that sum to 1 — the model picks the class with the highest probability.\n",
        "\n",
        "- **Key Differences**:\n",
        "\n",
        "| Feature                 | Logistic Regression                    | Softmax Regression                          |\n",
        "|------------------------|----------------------------------------|---------------------------------------------|\n",
        "| Type of Problem         | Binary classification                  | Multiclass classification                   |\n",
        "| Output                  | Single probability                     | Probability distribution over all classes   |\n",
        "| Activation Function     | Sigmoid                                | Softmax                                     |\n",
        "| Classes Supported       | 2 classes                              | 3 or more classes                           |\n",
        "| Loss Function           | Binary Cross-Entropy (Log Loss)        | Categorical Cross-Entropy                   |\n",
        "\n",
        "- **Use Case Example**:\n",
        "  - **Logistic Regression**: Classify email as spam or not spam.\n",
        "  - **Softmax Regression**: Classify an image as cat, dog, or horse.\n",
        "\n",
        "---"
      ],
      "metadata": {
        "id": "VPyDZMyOO32a"
      }
    },
    {
      "cell_type": "markdown",
      "source": [
        "19. How do we choose between One-vs-Rest (OvR) and Softmax for multiclass classification?\n",
        "\n",
        "- **One-vs-Rest (OvR)**:\n",
        "  - **Definition**: Trains **one binary classifier per class**.\n",
        "  - For $K$ classes, it builds **K logistic regression models**, each distinguishing one class from the rest.\n",
        "  - **Prediction**: The class whose classifier gives the **highest probability** is chosen.\n",
        "\n",
        "- **Softmax (Multinomial Logistic Regression)**:\n",
        "  - **Definition**: Trains **one model** that directly computes probabilities for **all classes simultaneously** using the softmax function.\n",
        "  - **Prediction**: The class with the **highest softmax score** is selected.\n",
        "\n",
        "- **Comparison**:\n",
        "\n",
        "| Feature                   | One-vs-Rest (OvR)                        | Softmax (Multinomial)                    |\n",
        "|---------------------------|------------------------------------------|------------------------------------------|\n",
        "| Number of Models          | One per class (K models)                 | One single model                         |\n",
        "| Complexity                | Simpler, easier to debug                 | Slightly more complex                    |\n",
        "| Training Time             | Slower (K models trained separately)     | Faster (one model trained)               |\n",
        "| Independence              | Assumes classes are **independent**      | Considers **mutual exclusivity**         |\n",
        "| Accuracy                  | Can be good when classes are unbalanced  | Often better with balanced data          |\n",
        "| Interpretability          | Easier to interpret per class            | Holistic but harder to interpret         |\n",
        "\n",
        "- **When to Use**:\n",
        "  - Use **OvR**:\n",
        "    - When classes are **not mutually exclusive**.\n",
        "    - For **highly imbalanced** or **sparse** classes.\n",
        "    - If you need **per-class control** or **interpretability**.\n",
        "  \n",
        "  - Use **Softmax**:\n",
        "    - When classes are **mutually exclusive**.\n",
        "    - For **balanced datasets** with **multiple classes**.\n",
        "    - When you want a **single probabilistic model**.\n",
        "\n",
        "- **Example**:\n",
        "  - **OvR**: Predicting if an article belongs to one or more topics (politics, sports, tech).\n",
        "  - **Softmax**: Predicting the digit (0-9) in handwritten digit recognition where only one correct class exists.\n",
        "\n",
        "---"
      ],
      "metadata": {
        "id": "fiZyToCuPDSu"
      }
    },
    {
      "cell_type": "markdown",
      "source": [
        "20. How do we interpret coefficients in Logistic Regression?\n",
        "\n",
        "- **Interpreting Coefficients in Logistic Regression**:\n",
        "\n",
        "  - In logistic regression, the **coefficients** (weights) represent the relationship between the **input features** and the **log-odds of the outcome**. The model predicts the probability of the positive class, and the coefficients help understand how each feature influences that prediction.\n",
        "\n",
        "- **Log-Odds Interpretation**:\n",
        "  - The model outputs the **log-odds** of the event (probability of class 1) based on the input features. The equation for logistic regression is:\n",
        "  \n",
        "  $$\n",
        "  \\log \\left( \\frac{P(y = 1 | X)}{1 - P(y = 1 | X)} \\right) = \\beta_0 + \\beta_1x_1 + \\beta_2x_2 + \\ldots + \\beta_nx_n\n",
        "  $$\n",
        "\n",
        "  where:\n",
        "  - $P(y = 1 | X)$ is the probability of class 1.\n",
        "  - $\\beta_0$ is the **intercept** (bias term).\n",
        "  - $\\beta_1, \\beta_2, \\ldots, \\beta_n$ are the **coefficients** corresponding to the features $x_1, x_2, \\ldots, x_n$.\n",
        "\n",
        "- **Exponentiating the Coefficients**:\n",
        "  - The coefficients can be interpreted in terms of **odds ratios** by exponentiating them. This gives a clearer understanding of how each feature affects the odds of the event happening.\n",
        "\n",
        "  $$\n",
        "  \\text{Odds Ratio} = e^{\\beta_i}\n",
        "  $$\n",
        "\n",
        "  - The **odds ratio** indicates the **change in the odds** for a **one-unit increase** in the corresponding feature.\n",
        "\n",
        "- **Interpretation of Coefficients**:\n",
        "  - **Positive Coefficient ($\\beta_i > 0$)**:\n",
        "    - If $\\beta_i$ is positive, the feature increases the odds of the positive class (class 1) as its value increases.\n",
        "    - Example: A positive coefficient for \"age\" might indicate that as age increases, the probability of the positive class (e.g., having a disease) increases.\n",
        "  \n",
        "  - **Negative Coefficient ($\\beta_i < 0$)**:\n",
        "    - If $\\beta_i$ is negative, the feature decreases the odds of the positive class as its value increases.\n",
        "    - Example: A negative coefficient for \"income\" might indicate that higher income decreases the likelihood of defaulting on a loan.\n",
        "\n",
        "- **Odds Ratio Interpretation**:\n",
        "  - **Odds Ratio > 1**: The feature increases the odds of the event occurring.\n",
        "  - **Odds Ratio = 1**: The feature has no effect on the odds.\n",
        "  - **Odds Ratio < 1**: The feature decreases the odds of the event occurring.\n",
        "\n",
        "- **Example**:\n",
        "  - Suppose we have the following logistic regression equation for predicting whether a person buys a product (1 = purchase, 0 = no purchase):\n",
        "  \n",
        "  $$\n",
        "  \\log \\left( \\frac{P(y = 1)}{1 - P(y = 1)} \\right) = -2 + 0.5 \\times \\text{Age} - 0.3 \\times \\text{Income}\n",
        "  $$\n",
        "\n",
        "  - **Intercept ($\\beta_0$)**: $-2$ – This is the log-odds of buying the product when Age and Income are both zero (which might not be realistic but serves as a baseline).\n",
        "  - **Coefficient of Age ($\\beta_1 = 0.5$)**: Each additional year of age increases the odds of purchasing the product by a factor of $e^{0.5} \\approx 1.65$.\n",
        "  - **Coefficient of Income ($\\beta_2 = -0.3$)**: For each additional unit of income, the odds of purchasing the product decrease by a factor of $e^{-0.3} \\approx 0.74$.\n",
        "\n",
        "- **Note**: Coefficients can be affected by **feature scaling** (e.g., standardization or normalization), so it's important to scale features if necessary to ensure proper interpretation.\n",
        "---"
      ],
      "metadata": {
        "id": "i0o4HvHpPNL0"
      }
    },
    {
      "cell_type": "markdown",
      "source": [
        "###Practical Questions:"
      ],
      "metadata": {
        "id": "0QLBHAWqPZ40"
      }
    },
    {
      "cell_type": "code",
      "source": [
        "#1. Write a Python program that loads a dataset, splits it into training and testing sets, applies Logistic Regression, and prints the model accuracy.\n",
        "import numpy as np\n",
        "import pandas as pd\n",
        "from sklearn import datasets\n",
        "from sklearn.model_selection import train_test_split\n",
        "from sklearn.linear_model import LogisticRegression\n",
        "from sklearn.metrics import accuracy_score\n",
        "\n",
        "# Load the Iris dataset\n",
        "iris = datasets.load_iris()\n",
        "X = iris.data  # Features\n",
        "y = iris.target  # Target variable\n",
        "\n",
        "# Split the dataset into training and testing sets\n",
        "X_train, X_test, y_train, y_test = train_test_split(X, y, test_size=0.2, random_state=42)\n",
        "\n",
        "# Create a Logistic Regression model\n",
        "model = LogisticRegression(max_iter=200)\n",
        "\n",
        "# Train the model\n",
        "model.fit(X_train, y_train)\n",
        "\n",
        "# Make predictions on the test set\n",
        "y_pred = model.predict(X_test)\n",
        "\n",
        "# Calculate the accuracy\n",
        "accuracy = accuracy_score(y_test, y_pred)\n",
        "\n",
        "# Print the model accuracy\n",
        "print(f'Model Accuracy: {accuracy * 100:.2f}%')"
      ],
      "metadata": {
        "colab": {
          "base_uri": "https://localhost:8080/"
        },
        "id": "2K62roKdPfJV",
        "outputId": "e69bc1c0-16f4-4ef7-b843-a21006b85f1b"
      },
      "execution_count": null,
      "outputs": [
        {
          "output_type": "stream",
          "name": "stdout",
          "text": [
            "Model Accuracy: 100.00%\n"
          ]
        }
      ]
    },
    {
      "cell_type": "code",
      "source": [
        "#2. Write a Python program to apply L1 regularization (Lasso) on a dataset using LogisticRegression(penalty='l1') and print the model accuracy.\n",
        "\n",
        "import numpy as np\n",
        "import pandas as pd\n",
        "from sklearn import datasets\n",
        "from sklearn.model_selection import train_test_split\n",
        "from sklearn.linear_model import LogisticRegression\n",
        "from sklearn.metrics import accuracy_score\n",
        "\n",
        "# Load the Iris dataset\n",
        "iris = datasets.load_iris()\n",
        "X = iris.data  # Features\n",
        "y = iris.target  # Target variable\n",
        "\n",
        "# Split the dataset into training and testing sets\n",
        "X_train, X_test, y_train, y_test = train_test_split(X, y, test_size=0.2, random_state=42)\n",
        "\n",
        "# Create a Logistic Regression model with L1 regularization\n",
        "model = LogisticRegression(penalty='l1', solver='liblinear', max_iter=200)\n",
        "\n",
        "# Train the model\n",
        "model.fit(X_train, y_train)\n",
        "\n",
        "# Make predictions on the test set\n",
        "y_pred = model.predict(X_test)\n",
        "\n",
        "# Calculate the accuracy\n",
        "accuracy = accuracy_score(y_test, y_pred)\n",
        "\n",
        "# Print the model accuracy\n",
        "print(f'Model Accuracy with L1 Regularization: {accuracy * 100:.2f}%')"
      ],
      "metadata": {
        "colab": {
          "base_uri": "https://localhost:8080/"
        },
        "id": "yvLNs9V6QWEv",
        "outputId": "d9be5720-a5eb-4182-da96-bc5523825cc7"
      },
      "execution_count": null,
      "outputs": [
        {
          "output_type": "stream",
          "name": "stdout",
          "text": [
            "Model Accuracy with L1 Regularization: 100.00%\n"
          ]
        }
      ]
    },
    {
      "cell_type": "code",
      "source": [
        "#3. Write a Python program to train Logistic Regression with L2 regularization (Ridge) using LogisticRegression(penalty='l2'). Print model accuracy and coefficients.\n",
        "\n",
        "import numpy as np\n",
        "import pandas as pd\n",
        "from sklearn import datasets\n",
        "from sklearn.model_selection import train_test_split\n",
        "from sklearn.linear_model import LogisticRegression\n",
        "from sklearn.metrics import accuracy_score\n",
        "\n",
        "# Load the Iris dataset\n",
        "iris = datasets.load_iris()\n",
        "X = iris.data  # Features\n",
        "y = iris.target  # Target variable\n",
        "\n",
        "# Split the dataset into training and testing sets\n",
        "X_train, X_test, y_train, y_test = train_test_split(X, y, test_size=0.2, random_state=42)\n",
        "\n",
        "# Create a Logistic Regression model with L2 regularization\n",
        "model = LogisticRegression(penalty='l2', max_iter=200)\n",
        "\n",
        "# Train the model\n",
        "model.fit(X_train, y_train)\n",
        "\n",
        "# Make predictions on the test set\n",
        "y_pred = model.predict(X_test)\n",
        "\n",
        "# Calculate the accuracy\n",
        "accuracy = accuracy_score(y_test, y_pred)\n",
        "\n",
        "# Print the model accuracy\n",
        "print(f'Model Accuracy with L2 Regularization: {accuracy * 100:.2f}%')\n",
        "\n",
        "# Print the model coefficients\n",
        "print('Model Coefficients:')\n",
        "print(model.coef_)"
      ],
      "metadata": {
        "colab": {
          "base_uri": "https://localhost:8080/"
        },
        "id": "wr7i5_F1ROGE",
        "outputId": "f26a3f9f-3b79-4970-e342-84751ece7777"
      },
      "execution_count": null,
      "outputs": [
        {
          "output_type": "stream",
          "name": "stdout",
          "text": [
            "Model Accuracy with L2 Regularization: 100.00%\n",
            "Model Coefficients:\n",
            "[[-0.39340204  0.96258576 -2.37510761 -0.99874603]\n",
            " [ 0.50840364 -0.25486503 -0.21301366 -0.77575487]\n",
            " [-0.1150016  -0.70772072  2.58812127  1.77450091]]\n"
          ]
        }
      ]
    },
    {
      "cell_type": "code",
      "source": [
        "#4. Write a Python program to train Logistic Regression with Elastic Net Regularization (penalty='elasticnet').\n",
        "\n",
        "import numpy as np\n",
        "import pandas as pd\n",
        "from sklearn import datasets\n",
        "from sklearn.model_selection import train_test_split\n",
        "from sklearn.linear_model import LogisticRegression\n",
        "from sklearn.metrics import accuracy_score\n",
        "\n",
        "# Load the Iris dataset\n",
        "iris = datasets.load_iris()\n",
        "X = iris.data  # Features\n",
        "y = iris.target  # Target variable\n",
        "\n",
        "# Split the dataset into training and testing sets\n",
        "X_train, X_test, y_train, y_test = train_test_split(X, y, test_size=0.2, random_state=42)\n",
        "\n",
        "# Create a Logistic Regression model with Elastic Net regularization\n",
        "model = LogisticRegression(penalty='elasticnet', solver='saga', l1_ratio=0.5, max_iter=200)\n",
        "\n",
        "# Train the model\n",
        "model.fit(X_train, y_train)\n",
        "\n",
        "# Make predictions on the test set\n",
        "y_pred = model.predict(X_test)\n",
        "\n",
        "# Calculate the accuracy\n",
        "accuracy = accuracy_score(y_test, y_pred)\n",
        "\n",
        "# Print the model accuracy\n",
        "print(f'Model Accuracy with Elastic Net Regularization: {accuracy * 100:.2f}%')\n",
        "\n",
        "# Print the model coefficients\n",
        "print('Model Coefficients:')\n",
        "print(model.coef_)"
      ],
      "metadata": {
        "colab": {
          "base_uri": "https://localhost:8080/"
        },
        "id": "T-EFc3sSRT-v",
        "outputId": "d85f14f6-9185-411b-a262-557e2f486056"
      },
      "execution_count": null,
      "outputs": [
        {
          "output_type": "stream",
          "name": "stdout",
          "text": [
            "Model Accuracy with Elastic Net Regularization: 100.00%\n",
            "Model Coefficients:\n",
            "[[ 0.38798899  1.77424741 -2.42190524 -0.70704749]\n",
            " [ 0.07583151  0.          0.         -0.58136671]\n",
            " [-1.256549   -1.52800563  2.59413859  2.0815802 ]]\n"
          ]
        },
        {
          "output_type": "stream",
          "name": "stderr",
          "text": [
            "/usr/local/lib/python3.11/dist-packages/sklearn/linear_model/_sag.py:348: ConvergenceWarning: The max_iter was reached which means the coef_ did not converge\n",
            "  warnings.warn(\n"
          ]
        }
      ]
    },
    {
      "cell_type": "code",
      "source": [
        "#5. Write a Python program to train a Logistic Regression model for multiclass classification using multi_class='ovr'.\n",
        "\n",
        "import numpy as np\n",
        "import pandas as pd\n",
        "from sklearn import datasets\n",
        "from sklearn.model_selection import train_test_split\n",
        "from sklearn.linear_model import LogisticRegression\n",
        "from sklearn.metrics import accuracy_score\n",
        "\n",
        "# Load the Iris dataset\n",
        "iris = datasets.load_iris()\n",
        "X = iris.data  # Features\n",
        "y = iris.target  # Target variable\n",
        "\n",
        "# Split the dataset into training and testing sets\n",
        "X_train, X_test, y_train, y_test = train_test_split(X, y, test_size=0.2, random_state=42)\n",
        "\n",
        "# Create a Logistic Regression model for multiclass classification using OvR\n",
        "model = LogisticRegression(multi_class='ovr', max_iter=200)\n",
        "\n",
        "# Train the model\n",
        "model.fit(X_train, y_train)\n",
        "\n",
        "# Make predictions on the test set\n",
        "y_pred = model.predict(X_test)\n",
        "\n",
        "# Calculate the accuracy\n",
        "accuracy = accuracy_score(y_test, y_pred)\n",
        "\n",
        "# Print the model accuracy\n",
        "print(f'Model Accuracy with One-vs-Rest (OvR): {accuracy * 100:.2f}%')\n",
        "\n",
        "# Print the model coefficients\n",
        "print('Model Coefficients:')\n",
        "print(model.coef_)"
      ],
      "metadata": {
        "colab": {
          "base_uri": "https://localhost:8080/"
        },
        "id": "KxaoIDpRRsw4",
        "outputId": "9ec122af-ecdd-44d2-ea96-b7a156ca798c"
      },
      "execution_count": null,
      "outputs": [
        {
          "output_type": "stream",
          "name": "stdout",
          "text": [
            "Model Accuracy with One-vs-Rest (OvR): 96.67%\n",
            "Model Coefficients:\n",
            "[[-0.42762216  0.88771927 -2.21471658 -0.91610036]\n",
            " [-0.03387836 -2.0442989   0.54266011 -1.0179372 ]\n",
            " [-0.38904645 -0.62147609  2.7762982   2.09067085]]\n"
          ]
        },
        {
          "output_type": "stream",
          "name": "stderr",
          "text": [
            "/usr/local/lib/python3.11/dist-packages/sklearn/linear_model/_logistic.py:1256: FutureWarning: 'multi_class' was deprecated in version 1.5 and will be removed in 1.7. Use OneVsRestClassifier(LogisticRegression(..)) instead. Leave it to its default value to avoid this warning.\n",
            "  warnings.warn(\n"
          ]
        }
      ]
    },
    {
      "cell_type": "code",
      "source": [
        "#6. Write a Python program to apply GridSearchCV to tune the hyperparameters (C and penalty) of Logistic Regression. Print the best parameters and accuracy.\n",
        "\n",
        "from sklearn.datasets import load_breast_cancer\n",
        "from sklearn.linear_model import LogisticRegression\n",
        "from sklearn.model_selection import GridSearchCV\n",
        "from sklearn.preprocessing import StandardScaler\n",
        "from sklearn.pipeline import Pipeline\n",
        "\n",
        "# Load dataset\n",
        "data = load_breast_cancer()\n",
        "X = data.data\n",
        "y = data.target\n",
        "\n",
        "# Define a pipeline with scaling and logistic regression\n",
        "pipeline = Pipeline([\n",
        "    ('scaler', StandardScaler()),\n",
        "    ('logreg', LogisticRegression(solver='liblinear'))  # liblinear supports both l1 and l2 penalties\n",
        "])\n",
        "\n",
        "# Define hyperparameter grid\n",
        "param_grid = {\n",
        "    'logreg__C': [0.01, 0.1, 1, 10, 100],\n",
        "    'logreg__penalty': ['l1', 'l2']\n",
        "}\n",
        "\n",
        "# Apply GridSearchCV\n",
        "grid = GridSearchCV(estimator=pipeline, param_grid=param_grid, cv=5, scoring='accuracy')\n",
        "grid.fit(X, y)\n",
        "\n",
        "# Print best parameters and best accuracy\n",
        "print(\"Best Parameters:\", grid.best_params_)\n",
        "print(\"Best Accuracy:\", grid.best_score_)\n",
        "\n"
      ],
      "metadata": {
        "id": "KUUQIykfR3tS",
        "colab": {
          "base_uri": "https://localhost:8080/"
        },
        "outputId": "1e662d66-785f-40e1-cb67-01a54c146c08"
      },
      "execution_count": null,
      "outputs": [
        {
          "output_type": "stream",
          "name": "stdout",
          "text": [
            "Best Parameters: {'logreg__C': 0.1, 'logreg__penalty': 'l2'}\n",
            "Best Accuracy: 0.9824406148113647\n"
          ]
        }
      ]
    },
    {
      "cell_type": "code",
      "source": [
        "#7. Write a Python program to evaluate Logistic Regression using Stratified K-Fold Cross-Validation. Print theaverage accuracy.\n",
        "\n",
        "import numpy as np\n",
        "from sklearn.model_selection import StratifiedKFold, cross_val_score\n",
        "from sklearn.linear_model import LogisticRegression\n",
        "from sklearn.datasets import make_classification\n",
        "\n",
        "# Generate a synthetic dataset\n",
        "X, y = make_classification(n_samples=1000, n_features=20, n_informative=15, n_redundant=5, random_state=42)\n",
        "\n",
        "# Initialize the Logistic Regression model\n",
        "logistic_model = LogisticRegression(solver='liblinear', random_state=42)\n",
        "\n",
        "# Initialize Stratified K-Fold Cross-Validation\n",
        "cv = StratifiedKFold(n_splits=10, shuffle=True, random_state=42)\n",
        "\n",
        "# Perform cross-validation and obtain accuracy scores\n",
        "accuracy_scores = cross_val_score(logistic_model, X, y, cv=cv, scoring='accuracy')\n",
        "\n",
        "# Calculate the average accuracy\n",
        "average_accuracy = np.mean(accuracy_scores)\n",
        "\n",
        "# Print the accuracy scores for each fold\n",
        "print(\"Accuracy scores for each fold:\", accuracy_scores)\n",
        "\n",
        "# Print the average accuracy\n",
        "print(\"Average accuracy:\", average_accuracy)"
      ],
      "metadata": {
        "id": "0v0zuOf3VAnY",
        "colab": {
          "base_uri": "https://localhost:8080/"
        },
        "outputId": "e08969ab-6ab0-4042-abce-8b1616072c06"
      },
      "execution_count": null,
      "outputs": [
        {
          "output_type": "stream",
          "name": "stdout",
          "text": [
            "Accuracy scores for each fold: [0.76 0.77 0.86 0.82 0.78 0.81 0.83 0.8  0.86 0.84]\n",
            "Average accuracy: 0.8130000000000001\n"
          ]
        }
      ]
    },
    {
      "cell_type": "code",
      "source": [
        "#8. Write a Python program to load a dataset from a CSV file, apply Logistic Regression, and evaluate its accuracy.\n",
        "\n",
        "import pandas as pd\n",
        "from sklearn.model_selection import train_test_split\n",
        "from sklearn.linear_model import LogisticRegression\n",
        "from sklearn.metrics import accuracy_score\n",
        "from sklearn.preprocessing import StandardScaler\n",
        "\n",
        "# Load CSV\n",
        "data = pd.read_csv('sample_data.csv')\n",
        "\n",
        "# Features and Target\n",
        "X = data[['Age', 'Salary']]\n",
        "y = data['Purchased']\n",
        "\n",
        "# Train-test split\n",
        "X_train, X_test, y_train, y_test = train_test_split(X, y, test_size=0.2, random_state=42)\n",
        "\n",
        "# Scale features\n",
        "scaler = StandardScaler()\n",
        "X_train = scaler.fit_transform(X_train)\n",
        "X_test = scaler.transform(X_test)\n",
        "\n",
        "# Train and predict\n",
        "model = LogisticRegression()\n",
        "model.fit(X_train, y_train)\n",
        "y_pred = model.predict(X_test)\n",
        "\n",
        "# Accuracy\n",
        "accuracy = accuracy_score(y_test, y_pred)\n",
        "print(f\"Accuracy: {accuracy:.4f}\")\n"
      ],
      "metadata": {
        "id": "YHy5XvjaT4g4",
        "colab": {
          "base_uri": "https://localhost:8080/"
        },
        "outputId": "b65fadaa-842a-43f5-cffb-155355ea766d"
      },
      "execution_count": null,
      "outputs": [
        {
          "output_type": "stream",
          "name": "stdout",
          "text": [
            "Accuracy: 0.5000\n"
          ]
        }
      ]
    },
    {
      "cell_type": "code",
      "source": [
        "#9. Write a Python program to apply RandomizedSearchCV for tuning hyperparameters (C, penalty, solver) in Logistic Regression. Print the best parameters and accuracy.\n",
        "\n",
        "import pandas as pd\n",
        "from sklearn.datasets import load_breast_cancer\n",
        "from sklearn.linear_model import LogisticRegression\n",
        "from sklearn.model_selection import RandomizedSearchCV\n",
        "from sklearn.preprocessing import StandardScaler\n",
        "from sklearn.pipeline import Pipeline\n",
        "from scipy.stats import uniform\n",
        "\n",
        "# Load dataset\n",
        "data = load_breast_cancer()\n",
        "X = data.data\n",
        "y = data.target\n",
        "\n",
        "# Pipeline with scaling and logistic regression\n",
        "pipeline = Pipeline([\n",
        "    ('scaler', StandardScaler()),\n",
        "    ('logreg', LogisticRegression(max_iter=1000))\n",
        "])\n",
        "\n",
        "# Define hyperparameter search space\n",
        "param_distributions = {\n",
        "    'logreg__C': uniform(loc=0.01, scale=10),  # Uniform distribution between 0.01 and 10.01\n",
        "    'logreg__penalty': ['l1', 'l2'],\n",
        "    'logreg__solver': ['liblinear', 'saga']  # Both support l1 and l2\n",
        "}\n",
        "\n",
        "# RandomizedSearchCV setup\n",
        "search = RandomizedSearchCV(\n",
        "    estimator=pipeline,\n",
        "    param_distributions=param_distributions,\n",
        "    n_iter=10,         # Number of combinations to try\n",
        "    cv=5,\n",
        "    scoring='accuracy',\n",
        "    random_state=42\n",
        ")\n",
        "\n",
        "# Fit the search\n",
        "search.fit(X, y)\n",
        "\n",
        "# Print best parameters and accuracy\n",
        "print(\"Best Parameters:\", search.best_params_)\n",
        "print(\"Best Accuracy:\", search.best_score_)\n"
      ],
      "metadata": {
        "colab": {
          "base_uri": "https://localhost:8080/"
        },
        "id": "4x2r3h6gBbYR",
        "outputId": "f5b19214-50b9-4b61-86ce-a38de263c981"
      },
      "execution_count": null,
      "outputs": [
        {
          "output_type": "stream",
          "name": "stderr",
          "text": [
            "/usr/local/lib/python3.11/dist-packages/sklearn/linear_model/_sag.py:348: ConvergenceWarning: The max_iter was reached which means the coef_ did not converge\n",
            "  warnings.warn(\n",
            "/usr/local/lib/python3.11/dist-packages/sklearn/linear_model/_sag.py:348: ConvergenceWarning: The max_iter was reached which means the coef_ did not converge\n",
            "  warnings.warn(\n",
            "/usr/local/lib/python3.11/dist-packages/sklearn/linear_model/_sag.py:348: ConvergenceWarning: The max_iter was reached which means the coef_ did not converge\n",
            "  warnings.warn(\n",
            "/usr/local/lib/python3.11/dist-packages/sklearn/linear_model/_sag.py:348: ConvergenceWarning: The max_iter was reached which means the coef_ did not converge\n",
            "  warnings.warn(\n",
            "/usr/local/lib/python3.11/dist-packages/sklearn/linear_model/_sag.py:348: ConvergenceWarning: The max_iter was reached which means the coef_ did not converge\n",
            "  warnings.warn(\n"
          ]
        },
        {
          "output_type": "stream",
          "name": "stdout",
          "text": [
            "Best Parameters: {'logreg__C': np.float64(0.5908361216819946), 'logreg__penalty': 'l2', 'logreg__solver': 'liblinear'}\n",
            "Best Accuracy: 0.9824406148113647\n"
          ]
        }
      ]
    },
    {
      "cell_type": "code",
      "source": [
        "#10. Write a Python program to implement One-vs-One (OvO) Multiclass Logistic Regression and print accuracy.\n",
        "\n",
        "from sklearn.datasets import load_iris\n",
        "from sklearn.linear_model import LogisticRegression\n",
        "from sklearn.multiclass import OneVsOneClassifier\n",
        "from sklearn.model_selection import train_test_split\n",
        "from sklearn.preprocessing import StandardScaler\n",
        "from sklearn.metrics import accuracy_score\n",
        "\n",
        "# Load multiclass dataset (Iris)\n",
        "data = load_iris()\n",
        "X = data.data\n",
        "y = data.target\n",
        "\n",
        "# Train-test split\n",
        "X_train, X_test, y_train, y_test = train_test_split(X, y, test_size=0.2, random_state=42)\n",
        "\n",
        "# Scale features\n",
        "scaler = StandardScaler()\n",
        "X_train = scaler.fit_transform(X_train)\n",
        "X_test = scaler.transform(X_test)\n",
        "\n",
        "# Logistic Regression with One-vs-One strategy\n",
        "base_model = LogisticRegression(max_iter=1000)\n",
        "ovo_model = OneVsOneClassifier(base_model)\n",
        "\n",
        "# Train and predict\n",
        "ovo_model.fit(X_train, y_train)\n",
        "y_pred = ovo_model.predict(X_test)\n",
        "\n",
        "# Evaluate accuracy\n",
        "accuracy = accuracy_score(y_test, y_pred)\n",
        "print(f\"One-vs-One Logistic Regression Accuracy: {accuracy:.4f}\")\n"
      ],
      "metadata": {
        "colab": {
          "base_uri": "https://localhost:8080/"
        },
        "id": "1Aghi0ccBs_h",
        "outputId": "ae92c330-13c5-4f4d-98fe-6775995989c8"
      },
      "execution_count": null,
      "outputs": [
        {
          "output_type": "stream",
          "name": "stdout",
          "text": [
            "One-vs-One Logistic Regression Accuracy: 1.0000\n"
          ]
        }
      ]
    },
    {
      "cell_type": "code",
      "source": [
        "#11. Write a Python program to train a Logistic Regression model and visualize the confusion matrix for binary classification.\n",
        "\n",
        "import pandas as pd\n",
        "import seaborn as sns\n",
        "import matplotlib.pyplot as plt\n",
        "from sklearn.datasets import load_breast_cancer\n",
        "from sklearn.linear_model import LogisticRegression\n",
        "from sklearn.model_selection import train_test_split\n",
        "from sklearn.preprocessing import StandardScaler\n",
        "from sklearn.metrics import confusion_matrix, ConfusionMatrixDisplay\n",
        "\n",
        "# Load dataset\n",
        "data = load_breast_cancer()\n",
        "X = data.data\n",
        "y = data.target\n",
        "\n",
        "# Train-test split\n",
        "X_train, X_test, y_train, y_test = train_test_split(X, y, test_size=0.2, random_state=42)\n",
        "\n",
        "# Standardize features\n",
        "scaler = StandardScaler()\n",
        "X_train = scaler.fit_transform(X_train)\n",
        "X_test = scaler.transform(X_test)\n",
        "\n",
        "# Train logistic regression\n",
        "model = LogisticRegression(max_iter=1000)\n",
        "model.fit(X_train, y_train)\n",
        "\n",
        "# Predict\n",
        "y_pred = model.predict(X_test)\n",
        "\n",
        "# Confusion matrix\n",
        "cm = confusion_matrix(y_test, y_pred)\n",
        "labels = data.target_names\n",
        "\n",
        "# Visualize confusion matrix\n",
        "plt.figure(figsize=(6,4))\n",
        "sns.heatmap(cm, annot=True, fmt='d', cmap='Blues',\n",
        "            xticklabels=labels, yticklabels=labels)\n",
        "plt.xlabel('Predicted')\n",
        "plt.ylabel('Actual')\n",
        "plt.title('Confusion Matrix - Logistic Regression')\n",
        "plt.show()\n"
      ],
      "metadata": {
        "colab": {
          "base_uri": "https://localhost:8080/",
          "height": 410
        },
        "id": "o5l9Ib7zB2fg",
        "outputId": "25ddb5da-30d2-424c-e81a-0b5d6e40ff42"
      },
      "execution_count": null,
      "outputs": [
        {
          "output_type": "display_data",
          "data": {
            "text/plain": [
              "<Figure size 600x400 with 2 Axes>"
            ],
            "image/png": "[encoded data removed]"
          },
          "metadata": {}
        }
      ]
    },
    {
      "cell_type": "code",
      "source": [
        "#12. Write a Python program to train a Logistic Regression model and evaluate its performance using Precision, Recall, and F1-Score.\n",
        "\n",
        "from sklearn.datasets import load_breast_cancer\n",
        "from sklearn.linear_model import LogisticRegression\n",
        "from sklearn.model_selection import train_test_split\n",
        "from sklearn.preprocessing import StandardScaler\n",
        "from sklearn.metrics import precision_score, recall_score, f1_score\n",
        "\n",
        "# Load dataset\n",
        "data = load_breast_cancer()\n",
        "X = data.data\n",
        "y = data.target\n",
        "\n",
        "# Split into training and test sets\n",
        "X_train, X_test, y_train, y_test = train_test_split(X, y, test_size=0.2, random_state=42)\n",
        "\n",
        "# Feature scaling\n",
        "scaler = StandardScaler()\n",
        "X_train = scaler.fit_transform(X_train)\n",
        "X_test = scaler.transform(X_test)\n",
        "\n",
        "# Train logistic regression model\n",
        "model = LogisticRegression(max_iter=1000)\n",
        "model.fit(X_train, y_train)\n",
        "\n",
        "# Predict\n",
        "y_pred = model.predict(X_test)\n",
        "\n",
        "# Evaluate performance\n",
        "precision = precision_score(y_test, y_pred)\n",
        "recall = recall_score(y_test, y_pred)\n",
        "f1 = f1_score(y_test, y_pred)\n",
        "\n",
        "# Print scores\n",
        "print(f\"Precision: {precision:.4f}\")\n",
        "print(f\"Recall:    {recall:.4f}\")\n",
        "print(f\"F1 Score:  {f1:.4f}\")"
      ],
      "metadata": {
        "colab": {
          "base_uri": "https://localhost:8080/"
        },
        "id": "0GC_0sPACCCE",
        "outputId": "c562bd98-ad35-44a7-88ec-b4560f2b349b"
      },
      "execution_count": null,
      "outputs": [
        {
          "output_type": "stream",
          "name": "stdout",
          "text": [
            "Precision: 0.9722\n",
            "Recall:    0.9859\n",
            "F1 Score:  0.9790\n"
          ]
        }
      ]
    },
    {
      "cell_type": "code",
      "source": [
        "#13. Write a Python program to train a Logistic Regression model on imbalanced data and apply class weights to improve model performance.\n",
        "\n",
        "from sklearn.datasets import make_classification\n",
        "from sklearn.linear_model import LogisticRegression\n",
        "from sklearn.model_selection import train_test_split\n",
        "from sklearn.metrics import f1_score\n",
        "\n",
        "# Create an imbalanced dataset\n",
        "X, y = make_classification(n_samples=1000, n_features=10, n_informative=5,\n",
        "                           n_redundant=2, n_clusters_per_class=1,\n",
        "                           weights=[0.9, 0.1], random_state=42)\n",
        "\n",
        "# Train-test split\n",
        "X_train, X_test, y_train, y_test = train_test_split(X, y, test_size=0.2, random_state=42)\n",
        "\n",
        "# Logistic Regression without class_weight\n",
        "model_no_weight = LogisticRegression(max_iter=1000)\n",
        "model_no_weight.fit(X_train, y_train)\n",
        "y_pred_no_weight = model_no_weight.predict(X_test)\n",
        "f1_no_weight = f1_score(y_test, y_pred_no_weight)\n",
        "\n",
        "# Logistic Regression with class_weight='balanced'\n",
        "model_weighted = LogisticRegression(class_weight='balanced', max_iter=1000)\n",
        "model_weighted.fit(X_train, y_train)\n",
        "y_pred_weighted = model_weighted.predict(X_test)\n",
        "f1_weighted = f1_score(y_test, y_pred_weighted)\n",
        "\n",
        "# Compare F1 scores\n",
        "print(f\"F1 Score without class_weight: {f1_no_weight:.4f}\")\n",
        "print(f\"F1 Score with class_weight='balanced': {f1_weighted:.4f}\")\n"
      ],
      "metadata": {
        "id": "pKC5SB-dCY_c",
        "colab": {
          "base_uri": "https://localhost:8080/"
        },
        "outputId": "f69ab655-eeba-4c2e-a698-e39625a3e8fe"
      },
      "execution_count": 1,
      "outputs": [
        {
          "output_type": "stream",
          "name": "stdout",
          "text": [
            "F1 Score without class_weight: 0.9167\n",
            "F1 Score with class_weight='balanced': 0.8679\n"
          ]
        }
      ]
    },
    {
      "cell_type": "code",
      "source": [
        "#14. Write a Python program to train Logistic Regression on the Titanic dataset, handle missing values, and evaluate performance.\n",
        "\n",
        "import pandas as pd\n",
        "from sklearn.model_selection import train_test_split\n",
        "from sklearn.linear_model import LogisticRegression\n",
        "from sklearn.metrics import accuracy_score, confusion_matrix, classification_report\n",
        "from sklearn.preprocessing import LabelEncoder\n",
        "\n",
        "# Load the Titanic dataset\n",
        "url = 'https://raw.githubusercontent.com/datasciencedojo/datasets/master/titanic.csv'\n",
        "data = pd.read_csv(url)\n",
        "\n",
        "# Display the first few rows of the dataset\n",
        "print(\"First few rows of the dataset:\")\n",
        "print(data.head())\n",
        "\n",
        "# Handle missing values\n",
        "# Fill missing 'Age' with the median age\n",
        "data['Age'].fillna(data['Age'].median(), inplace=True)\n",
        "\n",
        "# Fill missing 'Embarked' with the most common port\n",
        "data['Embarked'].fillna(data['Embarked'].mode()[0], inplace=True)\n",
        "\n",
        "# Drop the 'Cabin' column as it has too many missing values\n",
        "data.drop('Cabin', axis=1, inplace=True)\n",
        "\n",
        "# Convert categorical variables to numeric\n",
        "# Convert 'Sex' to numeric\n",
        "data['Sex'] = LabelEncoder().fit_transform(data['Sex'])\n",
        "\n",
        "# Convert 'Embarked' to numeric\n",
        "data['Embarked'] = LabelEncoder().fit_transform(data['Embarked'])\n",
        "\n",
        "# Select features and target variable\n",
        "X = data[['Pclass', 'Sex', 'Age', 'SibSp', 'Parch', 'Fare', 'Embarked']]  # Features\n",
        "y = data['Survived']  # Target variable\n",
        "\n",
        "# Split the dataset into training and testing sets\n",
        "X_train, X_test, y_train, y_test = train_test_split(X, y, test_size=0.2, random_state=42)\n",
        "\n",
        "# Create a Logistic Regression model\n",
        "model = LogisticRegression(max_iter=200)\n",
        "\n",
        "# Fit the model on the training data\n",
        "model.fit(X_train, y_train)\n",
        "\n",
        "# Make predictions on the test data\n",
        "y_pred = model.predict(X_test)\n",
        "\n",
        "# Evaluate the model's accuracy\n",
        "accuracy = accuracy_score(y_test, y_pred)\n",
        "print(f\"Accuracy: {accuracy:.2f}\")\n",
        "\n",
        "# Display confusion matrix and classification report\n",
        "print(\"Confusion Matrix:\")\n",
        "print(confusion_matrix(y_test, y_pred))\n",
        "print(\"\\nClassification Report:\")\n",
        "print(classification_report(y_test, y_pred))"
      ],
      "metadata": {
        "colab": {
          "base_uri": "https://localhost:8080/"
        },
        "id": "MFe8it7Oma2E",
        "outputId": "d6e45461-bc22-4438-c24b-bbcd97ea47df"
      },
      "execution_count": 4,
      "outputs": [
        {
          "output_type": "stream",
          "name": "stdout",
          "text": [
            "First few rows of the dataset:\n",
            "   PassengerId  Survived  Pclass  \\\n",
            "0            1         0       3   \n",
            "1            2         1       1   \n",
            "2            3         1       3   \n",
            "3            4         1       1   \n",
            "4            5         0       3   \n",
            "\n",
            "                                                Name     Sex   Age  SibSp  \\\n",
            "0                            Braund, Mr. Owen Harris    male  22.0      1   \n",
            "1  Cumings, Mrs. John Bradley (Florence Briggs Th...  female  38.0      1   \n",
            "2                             Heikkinen, Miss. Laina  female  26.0      0   \n",
            "3       Futrelle, Mrs. Jacques Heath (Lily May Peel)  female  35.0      1   \n",
            "4                           Allen, Mr. William Henry    male  35.0      0   \n",
            "\n",
            "   Parch            Ticket     Fare Cabin Embarked  \n",
            "0      0         A/5 21171   7.2500   NaN        S  \n",
            "1      0          PC 17599  71.2833   C85        C  \n",
            "2      0  STON/O2. 3101282   7.9250   NaN        S  \n",
            "3      0            113803  53.1000  C123        S  \n",
            "4      0            373450   8.0500   NaN        S  \n",
            "Accuracy: 0.81\n",
            "Confusion Matrix:\n",
            "[[90 15]\n",
            " [19 55]]\n",
            "\n",
            "Classification Report:\n",
            "              precision    recall  f1-score   support\n",
            "\n",
            "           0       0.83      0.86      0.84       105\n",
            "           1       0.79      0.74      0.76        74\n",
            "\n",
            "    accuracy                           0.81       179\n",
            "   macro avg       0.81      0.80      0.80       179\n",
            "weighted avg       0.81      0.81      0.81       179\n",
            "\n"
          ]
        },
        {
          "output_type": "stream",
          "name": "stderr",
          "text": [
            "<ipython-input-4-6991c165cc24>:19: FutureWarning: A value is trying to be set on a copy of a DataFrame or Series through chained assignment using an inplace method.\n",
            "The behavior will change in pandas 3.0. This inplace method will never work because the intermediate object on which we are setting values always behaves as a copy.\n",
            "\n",
            "For example, when doing 'df[col].method(value, inplace=True)', try using 'df.method({col: value}, inplace=True)' or df[col] = df[col].method(value) instead, to perform the operation inplace on the original object.\n",
            "\n",
            "\n",
            "  data['Age'].fillna(data['Age'].median(), inplace=True)\n",
            "<ipython-input-4-6991c165cc24>:22: FutureWarning: A value is trying to be set on a copy of a DataFrame or Series through chained assignment using an inplace method.\n",
            "The behavior will change in pandas 3.0. This inplace method will never work because the intermediate object on which we are setting values always behaves as a copy.\n",
            "\n",
            "For example, when doing 'df[col].method(value, inplace=True)', try using 'df.method({col: value}, inplace=True)' or df[col] = df[col].method(value) instead, to perform the operation inplace on the original object.\n",
            "\n",
            "\n",
            "  data['Embarked'].fillna(data['Embarked'].mode()[0], inplace=True)\n"
          ]
        }
      ]
    },
    {
      "cell_type": "code",
      "source": [
        "#15. Write a Python program to apply feature scaling (Standardization) before training a Logistic Regression model. Evaluate its accuracy and compare results with and without scaling.\n",
        "\n",
        "import pandas as pd\n",
        "from sklearn.model_selection import train_test_split\n",
        "from sklearn.linear_model import LogisticRegression\n",
        "from sklearn.metrics import accuracy_score, confusion_matrix, classification_report\n",
        "from sklearn.preprocessing import StandardScaler, LabelEncoder\n",
        "\n",
        "# Load the Titanic dataset\n",
        "url = 'https://raw.githubusercontent.com/datasciencedojo/datasets/master/titanic.csv'\n",
        "data = pd.read_csv(url)\n",
        "\n",
        "# Handle missing values\n",
        "data['Age'].fillna(data['Age'].median(), inplace=True)\n",
        "data['Embarked'].fillna(data['Embarked'].mode()[0], inplace=True)\n",
        "data.drop('Cabin', axis=1, inplace=True)\n",
        "\n",
        "# Convert categorical variables to numeric\n",
        "data['Sex'] = LabelEncoder().fit_transform(data['Sex'])\n",
        "data['Embarked'] = LabelEncoder().fit_transform(data['Embarked'])\n",
        "\n",
        "# Select features and target variable\n",
        "X = data[['Pclass', 'Sex', 'Age', 'SibSp', 'Parch', 'Fare', 'Embarked']]  # Features\n",
        "y = data['Survived']  # Target variable\n",
        "\n",
        "# Split the dataset into training and testing sets\n",
        "X_train, X_test, y_train, y_test = train_test_split(X, y, test_size=0.2, random_state=42)\n",
        "\n",
        "# Logistic Regression without scaling\n",
        "model_no_scaling = LogisticRegression(max_iter=200)\n",
        "model_no_scaling.fit(X_train, y_train)\n",
        "y_pred_no_scaling = model_no_scaling.predict(X_test)\n",
        "\n",
        "# Evaluate accuracy without scaling\n",
        "accuracy_no_scaling = accuracy_score(y_test, y_pred_no_scaling)\n",
        "print(f\"Accuracy without scaling: {accuracy_no_scaling:.2f}\")\n",
        "\n",
        "# Logistic Regression with scaling\n",
        "scaler = StandardScaler()\n",
        "X_train_scaled = scaler.fit_transform(X_train)\n",
        "X_test_scaled = scaler.transform(X_test)\n",
        "\n",
        "model_with_scaling = LogisticRegression(max_iter=200)\n",
        "model_with_scaling.fit(X_train_scaled, y_train)\n",
        "y_pred_with_scaling = model_with_scaling.predict(X_test_scaled)\n",
        "\n",
        "# Evaluate accuracy with scaling\n",
        "accuracy_with_scaling = accuracy_score(y_test, y_pred_with_scaling)\n",
        "print(f\"Accuracy with scaling: {accuracy_with_scaling:.2f}\")\n",
        "\n",
        "# Display confusion matrix and classification report for both models\n",
        "print(\"\\nConfusion Matrix without scaling:\")\n",
        "print(confusion_matrix(y_test, y_pred_no_scaling))\n",
        "print(\"\\nClassification Report without scaling:\")\n",
        "print(classification_report(y_test, y_pred_no_scaling))\n",
        "\n",
        "print(\"\\nConfusion Matrix with scaling:\")\n",
        "print(confusion_matrix(y_test, y_pred_with_scaling))\n",
        "print(\"\\nClassification Report with scaling:\")\n",
        "print(classification_report(y_test, y_pred_with_scaling))"
      ],
      "metadata": {
        "colab": {
          "base_uri": "https://localhost:8080/"
        },
        "id": "cgWNTKb-mlxj",
        "outputId": "066c61ba-47ba-4842-a585-9a7ce4ac3aac"
      },
      "execution_count": 6,
      "outputs": [
        {
          "output_type": "stream",
          "name": "stderr",
          "text": [
            "<ipython-input-6-96a0494b8d64>:14: FutureWarning: A value is trying to be set on a copy of a DataFrame or Series through chained assignment using an inplace method.\n",
            "The behavior will change in pandas 3.0. This inplace method will never work because the intermediate object on which we are setting values always behaves as a copy.\n",
            "\n",
            "For example, when doing 'df[col].method(value, inplace=True)', try using 'df.method({col: value}, inplace=True)' or df[col] = df[col].method(value) instead, to perform the operation inplace on the original object.\n",
            "\n",
            "\n",
            "  data['Age'].fillna(data['Age'].median(), inplace=True)\n",
            "<ipython-input-6-96a0494b8d64>:15: FutureWarning: A value is trying to be set on a copy of a DataFrame or Series through chained assignment using an inplace method.\n",
            "The behavior will change in pandas 3.0. This inplace method will never work because the intermediate object on which we are setting values always behaves as a copy.\n",
            "\n",
            "For example, when doing 'df[col].method(value, inplace=True)', try using 'df.method({col: value}, inplace=True)' or df[col] = df[col].method(value) instead, to perform the operation inplace on the original object.\n",
            "\n",
            "\n",
            "  data['Embarked'].fillna(data['Embarked'].mode()[0], inplace=True)\n"
          ]
        },
        {
          "output_type": "stream",
          "name": "stdout",
          "text": [
            "Accuracy without scaling: 0.81\n",
            "Accuracy with scaling: 0.80\n",
            "\n",
            "Confusion Matrix without scaling:\n",
            "[[90 15]\n",
            " [19 55]]\n",
            "\n",
            "Classification Report without scaling:\n",
            "              precision    recall  f1-score   support\n",
            "\n",
            "           0       0.83      0.86      0.84       105\n",
            "           1       0.79      0.74      0.76        74\n",
            "\n",
            "    accuracy                           0.81       179\n",
            "   macro avg       0.81      0.80      0.80       179\n",
            "weighted avg       0.81      0.81      0.81       179\n",
            "\n",
            "\n",
            "Confusion Matrix with scaling:\n",
            "[[90 15]\n",
            " [20 54]]\n",
            "\n",
            "Classification Report with scaling:\n",
            "              precision    recall  f1-score   support\n",
            "\n",
            "           0       0.82      0.86      0.84       105\n",
            "           1       0.78      0.73      0.76        74\n",
            "\n",
            "    accuracy                           0.80       179\n",
            "   macro avg       0.80      0.79      0.80       179\n",
            "weighted avg       0.80      0.80      0.80       179\n",
            "\n"
          ]
        }
      ]
    },
    {
      "cell_type": "code",
      "source": [
        "#16. Write a Python program to train Logistic Regression and evaluate its performance using ROC-AUC score.\n",
        "\n",
        "from sklearn.datasets import load_breast_cancer\n",
        "from sklearn.linear_model import LogisticRegression\n",
        "from sklearn.model_selection import train_test_split\n",
        "from sklearn.preprocessing import StandardScaler\n",
        "from sklearn.metrics import roc_auc_score\n",
        "\n",
        "# Load dataset\n",
        "data = load_breast_cancer()\n",
        "X = data.data\n",
        "y = data.target\n",
        "\n",
        "# Train-test split\n",
        "X_train, X_test, y_train, y_test = train_test_split(X, y, test_size=0.2, random_state=42)\n",
        "\n",
        "# Feature scaling\n",
        "scaler = StandardScaler()\n",
        "X_train = scaler.fit_transform(X_train)\n",
        "X_test = scaler.transform(X_test)\n",
        "\n",
        "# Train logistic regression\n",
        "model = LogisticRegression(max_iter=1000)\n",
        "model.fit(X_train, y_train)\n",
        "\n",
        "# Predict probabilities for ROC-AUC (use probability of class 1)\n",
        "y_probs = model.predict_proba(X_test)[:, 1]\n",
        "\n",
        "# Compute ROC-AUC score\n",
        "roc_auc = roc_auc_score(y_test, y_probs)\n",
        "print(f\"ROC-AUC Score: {roc_auc:.4f}\")"
      ],
      "metadata": {
        "colab": {
          "base_uri": "https://localhost:8080/"
        },
        "id": "LTlzASZbnxPi",
        "outputId": "62628957-1ad0-4bce-d4b1-89135f25ee7c"
      },
      "execution_count": 7,
      "outputs": [
        {
          "output_type": "stream",
          "name": "stdout",
          "text": [
            "ROC-AUC Score: 0.9974\n"
          ]
        }
      ]
    },
    {
      "cell_type": "code",
      "source": [
        "#17. Write a Python program to train Logistic Regression using a custom learning rate (C=0.5) and evaluate accuracy.\n",
        "\n",
        "from sklearn.datasets import load_breast_cancer\n",
        "from sklearn.linear_model import LogisticRegression\n",
        "from sklearn.model_selection import train_test_split\n",
        "from sklearn.preprocessing import StandardScaler\n",
        "from sklearn.metrics import accuracy_score\n",
        "\n",
        "# Load dataset\n",
        "data = load_breast_cancer()\n",
        "X = data.data\n",
        "y = data.target\n",
        "\n",
        "# Split into training and testing sets\n",
        "X_train, X_test, y_train, y_test = train_test_split(X, y, test_size=0.2, random_state=42)\n",
        "\n",
        "# Standardize features\n",
        "scaler = StandardScaler()\n",
        "X_train = scaler.fit_transform(X_train)\n",
        "X_test = scaler.transform(X_test)\n",
        "\n",
        "# Create Logistic Regression model with custom learning rate (C=0.5)\n",
        "model = LogisticRegression(C=0.5, max_iter=1000)\n",
        "model.fit(X_train, y_train)\n",
        "\n",
        "# Make predictions\n",
        "y_pred = model.predict(X_test)\n",
        "\n",
        "# Evaluate accuracy\n",
        "accuracy = accuracy_score(y_test, y_pred)\n",
        "print(f\"Accuracy with C=0.5: {accuracy:.4f}\")"
      ],
      "metadata": {
        "colab": {
          "base_uri": "https://localhost:8080/"
        },
        "id": "Tisogxqfn_Xm",
        "outputId": "78e537b1-4e24-430a-df92-a5074d2f6a6b"
      },
      "execution_count": 8,
      "outputs": [
        {
          "output_type": "stream",
          "name": "stdout",
          "text": [
            "Accuracy with C=0.5: 0.9737\n"
          ]
        }
      ]
    },
    {
      "cell_type": "code",
      "source": [
        "#18. Write a Python program to train Logistic Regression and identify important features based on model coefficients.\n",
        "\n",
        "import numpy as np\n",
        "import pandas as pd\n",
        "from sklearn.datasets import load_breast_cancer\n",
        "from sklearn.linear_model import LogisticRegression\n",
        "from sklearn.model_selection import train_test_split\n",
        "from sklearn.preprocessing import StandardScaler\n",
        "\n",
        "# Load dataset\n",
        "data = load_breast_cancer()\n",
        "X = data.data\n",
        "y = data.target\n",
        "feature_names = data.feature_names\n",
        "\n",
        "# Split and scale\n",
        "X_train, X_test, y_train, y_test = train_test_split(X, y, test_size=0.2, random_state=42)\n",
        "scaler = StandardScaler()\n",
        "X_train_scaled = scaler.fit_transform(X_train)\n",
        "X_test_scaled = scaler.transform(X_test)\n",
        "\n",
        "# Train logistic regression\n",
        "model = LogisticRegression(max_iter=1000)\n",
        "model.fit(X_train_scaled, y_train)\n",
        "\n",
        "# Get feature importance (coefficients)\n",
        "coefficients = model.coef_[0]\n",
        "feature_importance = pd.DataFrame({\n",
        "    'Feature': feature_names,\n",
        "    'Coefficient': coefficients,\n",
        "    'Absolute Coef': np.abs(coefficients)\n",
        "})\n",
        "\n",
        "# Sort by absolute value of coefficients\n",
        "feature_importance = feature_importance.sort_values(by='Absolute Coef', ascending=False)\n",
        "\n",
        "# Display top important features\n",
        "print(\"Top important features based on Logistic Regression coefficients:\\n\")\n",
        "print(feature_importance[['Feature', 'Coefficient']].head(10))\n"
      ],
      "metadata": {
        "colab": {
          "base_uri": "https://localhost:8080/"
        },
        "id": "JrGLknTjoHXf",
        "outputId": "4723dd3a-5b38-4626-bb67-98696cd14648"
      },
      "execution_count": 9,
      "outputs": [
        {
          "output_type": "stream",
          "name": "stdout",
          "text": [
            "Top important features based on Logistic Regression coefficients:\n",
            "\n",
            "                 Feature  Coefficient\n",
            "21         worst texture    -1.350606\n",
            "10          radius error    -1.268178\n",
            "28        worst symmetry    -1.208200\n",
            "7    mean concave points    -1.119804\n",
            "26       worst concavity    -0.943053\n",
            "13            area error    -0.907186\n",
            "20          worst radius    -0.879840\n",
            "23            worst area    -0.841846\n",
            "6         mean concavity    -0.801458\n",
            "27  worst concave points    -0.778217\n"
          ]
        }
      ]
    },
    {
      "cell_type": "code",
      "source": [
        "#19. Write a Python program to train Logistic Regression and evaluate its performance using Cohen’s Kappa Score.\n",
        "\n",
        "from sklearn.datasets import load_breast_cancer\n",
        "from sklearn.linear_model import LogisticRegression\n",
        "from sklearn.model_selection import train_test_split\n",
        "from sklearn.preprocessing import StandardScaler\n",
        "from sklearn.metrics import cohen_kappa_score\n",
        "\n",
        "# Load dataset\n",
        "data = load_breast_cancer()\n",
        "X = data.data\n",
        "y = data.target\n",
        "\n",
        "# Train-test split\n",
        "X_train, X_test, y_train, y_test = train_test_split(X, y, test_size=0.2, random_state=42)\n",
        "\n",
        "# Feature scaling\n",
        "scaler = StandardScaler()\n",
        "X_train = scaler.fit_transform(X_train)\n",
        "X_test = scaler.transform(X_test)\n",
        "\n",
        "# Train logistic regression model\n",
        "model = LogisticRegression(max_iter=1000)\n",
        "model.fit(X_train, y_train)\n",
        "\n",
        "# Predict\n",
        "y_pred = model.predict(X_test)\n",
        "\n",
        "# Evaluate using Cohen's Kappa Score\n",
        "kappa_score = cohen_kappa_score(y_test, y_pred)\n",
        "print(f\"Cohen's Kappa Score: {kappa_score:.4f}\")"
      ],
      "metadata": {
        "colab": {
          "base_uri": "https://localhost:8080/"
        },
        "id": "CezLLSNjp99Y",
        "outputId": "c639197c-bab7-4efb-9560-efd95b4f1919"
      },
      "execution_count": 10,
      "outputs": [
        {
          "output_type": "stream",
          "name": "stdout",
          "text": [
            "Cohen's Kappa Score: 0.9437\n"
          ]
        }
      ]
    },
    {
      "cell_type": "code",
      "source": [
        "#20. Write a Python program to train Logistic Regression and visualize the Precision-Recall Curve for binary classification.\n",
        "\n",
        "import matplotlib.pyplot as plt\n",
        "from sklearn.datasets import load_breast_cancer\n",
        "from sklearn.linear_model import LogisticRegression\n",
        "from sklearn.model_selection import train_test_split\n",
        "from sklearn.preprocessing import StandardScaler\n",
        "from sklearn.metrics import precision_recall_curve, auc\n",
        "\n",
        "# Load dataset\n",
        "data = load_breast_cancer()\n",
        "X = data.data\n",
        "y = data.target\n",
        "\n",
        "# Train-test split\n",
        "X_train, X_test, y_train, y_test = train_test_split(X, y, test_size=0.2, random_state=42)\n",
        "\n",
        "# Feature scaling\n",
        "scaler = StandardScaler()\n",
        "X_train = scaler.fit_transform(X_train)\n",
        "X_test = scaler.transform(X_test)\n",
        "\n",
        "# Train Logistic Regression model\n",
        "model = LogisticRegression(max_iter=1000)\n",
        "model.fit(X_train, y_train)\n",
        "\n",
        "# Predict probabilities\n",
        "y_probs = model.predict_proba(X_test)[:, 1]\n",
        "\n",
        "# Compute precision-recall values\n",
        "precision, recall, thresholds = precision_recall_curve(y_test, y_probs)\n",
        "pr_auc = auc(recall, precision)\n",
        "\n",
        "# Plot Precision-Recall Curve\n",
        "plt.figure(figsize=(8, 6))\n",
        "plt.plot(recall, precision, color='blue', label=f'PR AUC = {pr_auc:.4f}')\n",
        "plt.xlabel('Recall')\n",
        "plt.ylabel('Precision')\n",
        "plt.title('Precision-Recall Curve')\n",
        "plt.legend()\n",
        "plt.grid(True)\n",
        "plt.show()"
      ],
      "metadata": {
        "colab": {
          "base_uri": "https://localhost:8080/",
          "height": 564
        },
        "id": "Zh9jQ8WBqGzE",
        "outputId": "9a80cc35-2f5b-4332-d326-8ae1c3ef0bf4"
      },
      "execution_count": 11,
      "outputs": [
        {
          "output_type": "display_data",
          "data": {
            "text/plain": [
              "<Figure size 800x600 with 1 Axes>"
            ],
            "image/png": "[encoded data removed]"
          },
          "metadata": {}
        }
      ]
    },
    {
      "cell_type": "code",
      "source": [
        "#21. Write a Python program to train Logistic Regression with different solvers (liblinear, saga, lbfgs) and compare their accuracy.\n",
        "\n",
        "from sklearn.datasets import load_breast_cancer\n",
        "from sklearn.linear_model import LogisticRegression\n",
        "from sklearn.model_selection import train_test_split\n",
        "from sklearn.preprocessing import StandardScaler\n",
        "from sklearn.metrics import accuracy_score\n",
        "\n",
        "# Load dataset\n",
        "data = load_breast_cancer()\n",
        "X = data.data\n",
        "y = data.target\n",
        "\n",
        "# Split data\n",
        "X_train, X_test, y_train, y_test = train_test_split(X, y, test_size=0.2, random_state=42)\n",
        "\n",
        "# Feature scaling\n",
        "scaler = StandardScaler()\n",
        "X_train_scaled = scaler.fit_transform(X_train)\n",
        "X_test_scaled = scaler.transform(X_test)\n",
        "\n",
        "# Solvers to test\n",
        "solvers = ['liblinear', 'saga', 'lbfgs']\n",
        "accuracy_scores = {}\n",
        "\n",
        "# Train and evaluate models with different solvers\n",
        "for solver in solvers:\n",
        "    try:\n",
        "        model = LogisticRegression(solver=solver, max_iter=1000)\n",
        "        model.fit(X_train_scaled, y_train)\n",
        "        y_pred = model.predict(X_test_scaled)\n",
        "        accuracy = accuracy_score(y_test, y_pred)\n",
        "        accuracy_scores[solver] = accuracy\n",
        "    except Exception as e:\n",
        "        accuracy_scores[solver] = f\"Error: {e}\"\n",
        "\n",
        "# Print comparison results\n",
        "print(\"Accuracy comparison of Logistic Regression with different solvers:\\n\")\n",
        "for solver, acc in accuracy_scores.items():\n",
        "    print(f\"{solver}: {acc}\")"
      ],
      "metadata": {
        "colab": {
          "base_uri": "https://localhost:8080/"
        },
        "id": "8egaKX7irgRe",
        "outputId": "739cf908-b428-4fe3-b0a2-ae9da12e667a"
      },
      "execution_count": 12,
      "outputs": [
        {
          "output_type": "stream",
          "name": "stdout",
          "text": [
            "Accuracy comparison of Logistic Regression with different solvers:\n",
            "\n",
            "liblinear: 0.9736842105263158\n",
            "saga: 0.9736842105263158\n",
            "lbfgs: 0.9736842105263158\n"
          ]
        }
      ]
    },
    {
      "cell_type": "code",
      "source": [
        "#22. Write a Python program to train Logistic Regression and evaluate its performance using Matthews Correlation Coefficient (MCC).\n",
        "\n",
        "from sklearn.datasets import load_breast_cancer\n",
        "from sklearn.linear_model import LogisticRegression\n",
        "from sklearn.model_selection import train_test_split\n",
        "from sklearn.preprocessing import StandardScaler\n",
        "from sklearn.metrics import matthews_corrcoef\n",
        "\n",
        "# Load dataset\n",
        "data = load_breast_cancer()\n",
        "X = data.data\n",
        "y = data.target\n",
        "\n",
        "# Split the dataset\n",
        "X_train, X_test, y_train, y_test = train_test_split(X, y, test_size=0.2, random_state=42)\n",
        "\n",
        "# Scale features\n",
        "scaler = StandardScaler()\n",
        "X_train_scaled = scaler.fit_transform(X_train)\n",
        "X_test_scaled = scaler.transform(X_test)\n",
        "\n",
        "# Train Logistic Regression\n",
        "model = LogisticRegression(max_iter=1000)\n",
        "model.fit(X_train_scaled, y_train)\n",
        "\n",
        "# Predict\n",
        "y_pred = model.predict(X_test_scaled)\n",
        "\n",
        "# Evaluate using Matthews Correlation Coefficient\n",
        "mcc_score = matthews_corrcoef(y_test, y_pred)\n",
        "print(f\"Matthews Correlation Coefficient (MCC): {mcc_score:.4f}\")"
      ],
      "metadata": {
        "colab": {
          "base_uri": "https://localhost:8080/"
        },
        "id": "m8vGs7hMtmM1",
        "outputId": "201bee30-e36a-4c1e-f1b0-d42179bab4d4"
      },
      "execution_count": 13,
      "outputs": [
        {
          "output_type": "stream",
          "name": "stdout",
          "text": [
            "Matthews Correlation Coefficient (MCC): 0.9439\n"
          ]
        }
      ]
    },
    {
      "cell_type": "code",
      "source": [
        "#23. Write a Python program to train Logistic Regression on both raw and standardized data. Compare their accuracy to see the impact of feature scaling.\n",
        "\n",
        "import pandas as pd\n",
        "from sklearn.model_selection import train_test_split\n",
        "from sklearn.linear_model import LogisticRegression\n",
        "from sklearn.metrics import accuracy_score, confusion_matrix, classification_report\n",
        "from sklearn.preprocessing import StandardScaler, LabelEncoder\n",
        "\n",
        "# Load the Titanic dataset\n",
        "url = 'https://raw.githubusercontent.com/datasciencedojo/datasets/master/titanic.csv'\n",
        "data = pd.read_csv(url)\n",
        "\n",
        "# Handle missing values\n",
        "data['Age'].fillna(data['Age'].median(), inplace=True)\n",
        "data['Embarked'].fillna(data['Embarked'].mode()[0], inplace=True)\n",
        "data.drop('Cabin', axis=1, inplace=True)\n",
        "\n",
        "# Convert categorical variables to numeric\n",
        "data['Sex'] = LabelEncoder().fit_transform(data['Sex'])\n",
        "data['Embarked'] = LabelEncoder().fit_transform(data['Embarked'])\n",
        "\n",
        "# Select features and target variable\n",
        "X = data[['Pclass', 'Sex', 'Age', 'SibSp', 'Parch', 'Fare', 'Embarked']]  # Features\n",
        "y = data['Survived']  # Target variable\n",
        "\n",
        "# Split the dataset into training and testing sets\n",
        "X_train, X_test, y_train, y_test = train_test_split(X, y, test_size=0.2, random_state=42)\n",
        "\n",
        "# Logistic Regression on raw data\n",
        "model_raw = LogisticRegression(max_iter=200)\n",
        "model_raw.fit(X_train, y_train)\n",
        "y_pred_raw = model_raw.predict(X_test)\n",
        "\n",
        "# Evaluate accuracy on raw data\n",
        "accuracy_raw = accuracy_score(y_test, y_pred_raw)\n",
        "print(f\"Accuracy on raw data: {accuracy_raw:.2f}\")\n",
        "\n",
        "# Logistic Regression on standardized data\n",
        "scaler = StandardScaler()\n",
        "X_train_scaled = scaler.fit_transform(X_train)\n",
        "X_test_scaled = scaler.transform(X_test)\n",
        "\n",
        "model_scaled = LogisticRegression(max_iter=200)\n",
        "model_scaled.fit(X_train_scaled, y_train)\n",
        "y_pred_scaled = model_scaled.predict(X_test_scaled)\n",
        "\n",
        "# Evaluate accuracy on standardized data\n",
        "accuracy_scaled = accuracy_score(y_test, y_pred_scaled)\n",
        "print(f\"Accuracy on standardized data: {accuracy_scaled:.2f}\")\n",
        "\n",
        "# Display confusion matrix and classification report for both models\n",
        "print(\"\\nConfusion Matrix on raw data:\")\n",
        "print(confusion_matrix(y_test, y_pred_raw))\n",
        "print(\"\\nClassification Report on raw data:\")\n",
        "print(classification_report(y_test, y_pred_raw))\n",
        "\n",
        "print(\"\\nConfusion Matrix on standardized data:\")\n",
        "print(confusion_matrix(y_test, y_pred_scaled))\n",
        "print(\"\\nClassification Report on standardized data:\")\n",
        "print(classification_report(y_test, y_pred_scaled))"
      ],
      "metadata": {
        "colab": {
          "base_uri": "https://localhost:8080/"
        },
        "id": "4c5sRNmEuYQq",
        "outputId": "f10014ff-e129-4b3c-cca2-2b1ca88f95d9"
      },
      "execution_count": 15,
      "outputs": [
        {
          "output_type": "stream",
          "name": "stdout",
          "text": [
            "Accuracy on raw data: 0.81\n",
            "Accuracy on standardized data: 0.80\n",
            "\n",
            "Confusion Matrix on raw data:\n",
            "[[90 15]\n",
            " [19 55]]\n",
            "\n",
            "Classification Report on raw data:\n",
            "              precision    recall  f1-score   support\n",
            "\n",
            "           0       0.83      0.86      0.84       105\n",
            "           1       0.79      0.74      0.76        74\n",
            "\n",
            "    accuracy                           0.81       179\n",
            "   macro avg       0.81      0.80      0.80       179\n",
            "weighted avg       0.81      0.81      0.81       179\n",
            "\n",
            "\n",
            "Confusion Matrix on standardized data:\n",
            "[[90 15]\n",
            " [20 54]]\n",
            "\n",
            "Classification Report on standardized data:\n",
            "              precision    recall  f1-score   support\n",
            "\n",
            "           0       0.82      0.86      0.84       105\n",
            "           1       0.78      0.73      0.76        74\n",
            "\n",
            "    accuracy                           0.80       179\n",
            "   macro avg       0.80      0.79      0.80       179\n",
            "weighted avg       0.80      0.80      0.80       179\n",
            "\n"
          ]
        },
        {
          "output_type": "stream",
          "name": "stderr",
          "text": [
            "<ipython-input-15-d868587d0035>:14: FutureWarning: A value is trying to be set on a copy of a DataFrame or Series through chained assignment using an inplace method.\n",
            "The behavior will change in pandas 3.0. This inplace method will never work because the intermediate object on which we are setting values always behaves as a copy.\n",
            "\n",
            "For example, when doing 'df[col].method(value, inplace=True)', try using 'df.method({col: value}, inplace=True)' or df[col] = df[col].method(value) instead, to perform the operation inplace on the original object.\n",
            "\n",
            "\n",
            "  data['Age'].fillna(data['Age'].median(), inplace=True)\n",
            "<ipython-input-15-d868587d0035>:15: FutureWarning: A value is trying to be set on a copy of a DataFrame or Series through chained assignment using an inplace method.\n",
            "The behavior will change in pandas 3.0. This inplace method will never work because the intermediate object on which we are setting values always behaves as a copy.\n",
            "\n",
            "For example, when doing 'df[col].method(value, inplace=True)', try using 'df.method({col: value}, inplace=True)' or df[col] = df[col].method(value) instead, to perform the operation inplace on the original object.\n",
            "\n",
            "\n",
            "  data['Embarked'].fillna(data['Embarked'].mode()[0], inplace=True)\n"
          ]
        }
      ]
    },
    {
      "cell_type": "code",
      "source": [
        "#24. Write a Python program to train Logistic Regression and find the optimal C (regularization strength) using cross-validation.\n",
        "\n",
        "from sklearn.datasets import load_breast_cancer\n",
        "from sklearn.linear_model import LogisticRegression\n",
        "from sklearn.model_selection import train_test_split, GridSearchCV\n",
        "from sklearn.preprocessing import StandardScaler\n",
        "from sklearn.metrics import accuracy_score\n",
        "\n",
        "# Load dataset\n",
        "data = load_breast_cancer()\n",
        "X = data.data\n",
        "y = data.target\n",
        "\n",
        "# Split data\n",
        "X_train, X_test, y_train, y_test = train_test_split(X, y, test_size=0.2, random_state=42)\n",
        "\n",
        "# Standardize features\n",
        "scaler = StandardScaler()\n",
        "X_train_scaled = scaler.fit_transform(X_train)\n",
        "X_test_scaled = scaler.transform(X_test)\n",
        "\n",
        "# Logistic Regression model\n",
        "model = LogisticRegression(max_iter=1000)\n",
        "\n",
        "# Grid of C values to try\n",
        "param_grid = {\n",
        "    'C': [0.001, 0.01, 0.1, 1, 10, 100]\n",
        "}\n",
        "\n",
        "# Grid search with cross-validation\n",
        "grid = GridSearchCV(model, param_grid, cv=5, scoring='accuracy')\n",
        "grid.fit(X_train_scaled, y_train)\n",
        "\n",
        "# Best C value\n",
        "best_C = grid.best_params_['C']\n",
        "best_score = grid.best_score_\n",
        "\n",
        "# Evaluate on test set with best C\n",
        "final_model = LogisticRegression(C=best_C, max_iter=1000)\n",
        "final_model.fit(X_train_scaled, y_train)\n",
        "y_pred = final_model.predict(X_test_scaled)\n",
        "test_accuracy = accuracy_score(y_test, y_pred)\n",
        "\n",
        "# Results\n",
        "print(f\"Best C from cross-validation: {best_C}\")\n",
        "print(f\"Cross-validation accuracy:    {best_score:.4f}\")\n",
        "print(f\"Test set accuracy:            {test_accuracy:.4f}\")\n"
      ],
      "metadata": {
        "colab": {
          "base_uri": "https://localhost:8080/"
        },
        "id": "cjs1m44EvlkN",
        "outputId": "f7b5adcc-acc0-46f3-ef96-067560809565"
      },
      "execution_count": 16,
      "outputs": [
        {
          "output_type": "stream",
          "name": "stdout",
          "text": [
            "Best C from cross-validation: 10\n",
            "Cross-validation accuracy:    0.9758\n",
            "Test set accuracy:            0.9737\n"
          ]
        }
      ]
    },
    {
      "cell_type": "code",
      "source": [
        "#25. Write a Python program to train Logistic Regression, save the trained model using joblib, and load it again to make predictions.\n",
        "\n",
        "from sklearn.datasets import load_breast_cancer\n",
        "from sklearn.linear_model import LogisticRegression\n",
        "from sklearn.model_selection import train_test_split\n",
        "from sklearn.preprocessing import StandardScaler\n",
        "from sklearn.metrics import accuracy_score\n",
        "import joblib\n",
        "\n",
        "# Load dataset\n",
        "data = load_breast_cancer()\n",
        "X = data.data\n",
        "y = data.target\n",
        "\n",
        "# Train-test split\n",
        "X_train, X_test, y_train, y_test = train_test_split(X, y, test_size=0.2, random_state=42)\n",
        "\n",
        "# Standardize the features\n",
        "scaler = StandardScaler()\n",
        "X_train_scaled = scaler.fit_transform(X_train)\n",
        "X_test_scaled = scaler.transform(X_test)\n",
        "\n",
        "# Train the Logistic Regression model\n",
        "model = LogisticRegression(max_iter=1000)\n",
        "model.fit(X_train_scaled, y_train)\n",
        "\n",
        "# Save the model and scaler using joblib\n",
        "joblib.dump(model, \"logistic_model.pkl\")\n",
        "joblib.dump(scaler, \"scaler.pkl\")\n",
        "\n",
        "# Load the model and scaler\n",
        "loaded_model = joblib.load(\"logistic_model.pkl\")\n",
        "loaded_scaler = joblib.load(\"scaler.pkl\")\n",
        "\n",
        "# Transform test data using the loaded scaler\n",
        "X_test_scaled_loaded = loaded_scaler.transform(X_test)\n",
        "\n",
        "# Make predictions using the loaded model\n",
        "y_pred = loaded_model.predict(X_test_scaled_loaded)\n",
        "\n",
        "# Evaluate the model\n",
        "accuracy = accuracy_score(y_test, y_pred)\n",
        "print(f\"Accuracy using loaded model: {accuracy:.4f}\")\n"
      ],
      "metadata": {
        "colab": {
          "base_uri": "https://localhost:8080/"
        },
        "id": "MLjtny7-xF-h",
        "outputId": "015bc980-c7a1-48ef-aeed-d76a9d70e4a4"
      },
      "execution_count": 17,
      "outputs": [
        {
          "output_type": "stream",
          "name": "stdout",
          "text": [
            "Accuracy using loaded model: 0.9737\n"
          ]
        }
      ]
    }
  ]
}